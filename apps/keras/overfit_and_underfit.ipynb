{
 "cells": [
  {
   "cell_type": "markdown",
   "metadata": {
    "id": "fTFj8ft5dlbS"
   },
   "source": [
    "##### Copyright 2018 The TensorFlow Authors."
   ]
  },
  {
   "cell_type": "code",
   "execution_count": 1,
   "metadata": {
    "cellView": "form",
    "id": "lzyBOpYMdp3F"
   },
   "outputs": [],
   "source": [
    "#@title Licensed under the Apache License, Version 2.0 (the \"License\");\n",
    "# you may not use this file except in compliance with the License.\n",
    "# You may obtain a copy of the License at\n",
    "#\n",
    "# https://www.apache.org/licenses/LICENSE-2.0\n",
    "#\n",
    "# Unless required by applicable law or agreed to in writing, software\n",
    "# distributed under the License is distributed on an \"AS IS\" BASIS,\n",
    "# WITHOUT WARRANTIES OR CONDITIONS OF ANY KIND, either express or implied.\n",
    "# See the License for the specific language governing permissions and\n",
    "# limitations under the License."
   ]
  },
  {
   "cell_type": "code",
   "execution_count": 2,
   "metadata": {
    "cellView": "form",
    "id": "m_x4KfSJ7Vt7"
   },
   "outputs": [],
   "source": [
    "#@title MIT License\n",
    "#\n",
    "# Copyright (c) 2017 François Chollet\n",
    "#\n",
    "# Permission is hereby granted, free of charge, to any person obtaining a\n",
    "# copy of this software and associated documentation files (the \"Software\"),\n",
    "# to deal in the Software without restriction, including without limitation\n",
    "# the rights to use, copy, modify, merge, publish, distribute, sublicense,\n",
    "# and/or sell copies of the Software, and to permit persons to whom the\n",
    "# Software is furnished to do so, subject to the following conditions:\n",
    "#\n",
    "# The above copyright notice and this permission notice shall be included in\n",
    "# all copies or substantial portions of the Software.\n",
    "#\n",
    "# THE SOFTWARE IS PROVIDED \"AS IS\", WITHOUT WARRANTY OF ANY KIND, EXPRESS OR\n",
    "# IMPLIED, INCLUDING BUT NOT LIMITED TO THE WARRANTIES OF MERCHANTABILITY,\n",
    "# FITNESS FOR A PARTICULAR PURPOSE AND NONINFRINGEMENT. IN NO EVENT SHALL\n",
    "# THE AUTHORS OR COPYRIGHT HOLDERS BE LIABLE FOR ANY CLAIM, DAMAGES OR OTHER\n",
    "# LIABILITY, WHETHER IN AN ACTION OF CONTRACT, TORT OR OTHERWISE, ARISING\n",
    "# FROM, OUT OF OR IN CONNECTION WITH THE SOFTWARE OR THE USE OR OTHER\n",
    "# DEALINGS IN THE SOFTWARE."
   ]
  },
  {
   "cell_type": "markdown",
   "metadata": {
    "id": "C9HmC2T4ld5B"
   },
   "source": [
    "# Overfit and underfit"
   ]
  },
  {
   "cell_type": "markdown",
   "metadata": {
    "id": "kRTxFhXAlnl1"
   },
   "source": [
    "<table class=\"tfo-notebook-buttons\" align=\"left\">\n",
    "  <td>\n",
    "    <a target=\"_blank\" href=\"https://www.tensorflow.org/tutorials/keras/overfit_and_underfit\"><img src=\"https://www.tensorflow.org/images/tf_logo_32px.png\" />View on TensorFlow.org</a>\n",
    "  </td>\n",
    "  <td>\n",
    "    <a target=\"_blank\" href=\"https://colab.research.google.com/github/tensorflow/docs/blob/master/site/en/tutorials/keras/overfit_and_underfit.ipynb\"><img src=\"https://www.tensorflow.org/images/colab_logo_32px.png\" />Run in Google Colab</a>\n",
    "  </td>\n",
    "  <td>\n",
    "    <a target=\"_blank\" href=\"https://github.com/tensorflow/docs/blob/master/site/en/tutorials/keras/overfit_and_underfit.ipynb\"><img src=\"https://www.tensorflow.org/images/GitHub-Mark-32px.png\" />View source on GitHub</a>\n",
    "  </td>\n",
    "  <td>\n",
    "    <a href=\"https://storage.googleapis.com/tensorflow_docs/docs/site/en/tutorials/keras/overfit_and_underfit.ipynb\"><img src=\"https://www.tensorflow.org/images/download_logo_32px.png\" />Download notebook</a>\n",
    "  </td>\n",
    "</table>"
   ]
  },
  {
   "cell_type": "markdown",
   "metadata": {
    "id": "19rPukKZsPG6"
   },
   "source": [
    "As always, the code in this example will use the `tf.keras` API, which you can learn more about in the TensorFlow [Keras guide](https://www.tensorflow.org/guide/keras).\n",
    "\n",
    "In both of the previous examples—[classifying text](https://www.tensorflow.org/tutorials/keras/text_classification_with_hub) and [predicting fuel efficiency](https://www.tensorflow.org/tutorials/keras/regression) — we saw that the accuracy of our model on the validation data would peak after training for a number of epochs, and would then stagnate or start decreasing.\n",
    "\n",
    "In other words, our model would *overfit* to the training data. Learning how to deal with overfitting is important. Although it's often possible to achieve high accuracy on the *training set*, what we really want is to develop models that generalize well to a *testing set* (or data they haven't seen before).\n",
    "\n",
    "The opposite of overfitting is *underfitting*. Underfitting occurs when there is still room for improvement on the train data. This can happen for a number of reasons: If the model is not powerful enough, is over-regularized, or has simply not been trained long enough. This means the network has not learned the relevant patterns in the training data.\n",
    "\n",
    "If you train for too long though, the model will start to overfit and learn patterns from the training data that don't generalize to the test data. We need to strike a balance. Understanding how to train for an appropriate number of epochs as we'll explore below is a useful skill.\n",
    "\n",
    "To prevent overfitting, the best solution is to use more complete training data. The dataset should cover the full range of inputs that the model is expected to handle. Additional data may only be useful if it covers new and interesting cases.\n",
    "\n",
    "A model trained on more complete data will naturally generalize better. When that is no longer possible, the next best solution is to use techniques like regularization. These place constraints on the quantity and type of information your model can store.  If a network can only afford to memorize a small number of patterns, the optimization process will force it to focus on the most prominent patterns, which have a better chance of generalizing well.\n",
    "\n",
    "In this notebook, we'll explore several common regularization techniques, and use them to improve on a classification model."
   ]
  },
  {
   "cell_type": "markdown",
   "metadata": {
    "id": "WL8UoOTmGGsL"
   },
   "source": [
    "## Setup"
   ]
  },
  {
   "cell_type": "markdown",
   "metadata": {
    "id": "9FklhSI0Gg9R"
   },
   "source": [
    "Before getting started, import the necessary packages:"
   ]
  },
  {
   "cell_type": "code",
   "execution_count": 3,
   "metadata": {
    "id": "5pZ8A2liqvgk"
   },
   "outputs": [
    {
     "name": "stdout",
     "output_type": "stream",
     "text": [
      "2.3.1\n"
     ]
    }
   ],
   "source": [
    "import tensorflow as tf\n",
    "\n",
    "from tensorflow.keras import layers\n",
    "from tensorflow.keras import regularizers\n",
    "\n",
    "print(tf.__version__)"
   ]
  },
  {
   "cell_type": "code",
   "execution_count": 4,
   "metadata": {
    "id": "QnAtAjqRYVXe"
   },
   "outputs": [
    {
     "name": "stdout",
     "output_type": "stream",
     "text": [
      "Collecting git+https://github.com/tensorflow/docs\n",
      "  Cloning https://github.com/tensorflow/docs to /private/var/folders/49/hknzcxwd73gb_vrqqdgcdd9m0000gq/T/pip-req-build-nupxadpl\n",
      "Collecting astor\n",
      "  Using cached astor-0.8.1-py2.py3-none-any.whl (27 kB)\n",
      "Requirement already satisfied: absl-py in /Users/guoqiong/opt/anaconda3/envs/py36tf2/lib/python3.6/site-packages (from tensorflow-docs===0.0.08bf42f95cef824938df10b9c2f2d1fa22f952789-) (0.11.0)\n",
      "Collecting protobuf>=3.14\n",
      "  Using cached protobuf-3.14.0-cp36-cp36m-macosx_10_9_x86_64.whl (1.0 MB)\n",
      "Requirement already satisfied: pyyaml in /Users/guoqiong/opt/anaconda3/envs/py36tf2/lib/python3.6/site-packages (from tensorflow-docs===0.0.08bf42f95cef824938df10b9c2f2d1fa22f952789-) (5.4.1)\n",
      "Requirement already satisfied: dataclasses in /Users/guoqiong/opt/anaconda3/envs/py36tf2/lib/python3.6/site-packages (from tensorflow-docs===0.0.08bf42f95cef824938df10b9c2f2d1fa22f952789-) (0.8)\n",
      "Requirement already satisfied: six in /Users/guoqiong/opt/anaconda3/envs/py36tf2/lib/python3.6/site-packages (from absl-py->tensorflow-docs===0.0.08bf42f95cef824938df10b9c2f2d1fa22f952789-) (1.15.0)\n",
      "Building wheels for collected packages: tensorflow-docs\n",
      "  Building wheel for tensorflow-docs (setup.py) ... \u001b[?25ldone\n",
      "\u001b[?25h  Created wheel for tensorflow-docs: filename=tensorflow_docs-0.0.08bf42f95cef824938df10b9c2f2d1fa22f952789_-py3-none-any.whl size=143380 sha256=7548b04296a42f2d4b36934adcc11889d4802161a90757a5f6788c40a0213743\n",
      "  Stored in directory: /private/var/folders/49/hknzcxwd73gb_vrqqdgcdd9m0000gq/T/pip-ephem-wheel-cache-oilb7_wa/wheels/27/ca/30/9fb73780f8e8eb5a8321ae35616b0e9609f33e6c6f4071e8dd\n",
      "Successfully built tensorflow-docs\n",
      "Installing collected packages: astor, protobuf, tensorflow-docs\n",
      "  Attempting uninstall: protobuf\n",
      "    Found existing installation: protobuf 3.13.0\n",
      "    Uninstalling protobuf-3.13.0:\n",
      "      Successfully uninstalled protobuf-3.13.0\n",
      "\u001b[31mERROR: After October 2020 you may experience errors when installing or updating packages. This is because pip will change the way that it resolves dependency conflicts.\n",
      "\n",
      "We recommend you use --use-feature=2020-resolver to test your packages with the new resolver before it becomes the default.\n",
      "\n",
      "tensorflow 2.3.1 requires numpy<1.19.0,>=1.16.0, but you'll have numpy 1.19.2 which is incompatible.\u001b[0m\n",
      "Successfully installed astor-0.8.1 protobuf-3.14.0 tensorflow-docs-0.0.08bf42f95cef824938df10b9c2f2d1fa22f952789-\n"
     ]
    }
   ],
   "source": [
    "!pip install git+https://github.com/tensorflow/docs\n",
    "\n",
    "import tensorflow_docs as tfdocs\n",
    "import tensorflow_docs.modeling\n",
    "import tensorflow_docs.plots"
   ]
  },
  {
   "cell_type": "code",
   "execution_count": 5,
   "metadata": {
    "id": "-pnOU-ctX27Q"
   },
   "outputs": [],
   "source": [
    "from  IPython import display\n",
    "from matplotlib import pyplot as plt\n",
    "\n",
    "import numpy as np\n",
    "\n",
    "import pathlib\n",
    "import shutil\n",
    "import tempfile\n"
   ]
  },
  {
   "cell_type": "code",
   "execution_count": 6,
   "metadata": {
    "id": "jj6I4dvTtbUe"
   },
   "outputs": [],
   "source": [
    "logdir = pathlib.Path(tempfile.mkdtemp())/\"tensorboard_logs\"\n",
    "shutil.rmtree(logdir, ignore_errors=True)"
   ]
  },
  {
   "cell_type": "markdown",
   "metadata": {
    "id": "1cweoTiruj8O"
   },
   "source": [
    "## The Higgs Dataset\n",
    "\n",
    "The goal of this tutorial is not to do particle physics, so don't dwell on the details of the dataset. It contains 11&#x202F;000&#x202F;000 examples, each with 28 features, and a binary class label."
   ]
  },
  {
   "cell_type": "code",
   "execution_count": 7,
   "metadata": {
    "id": "YPjAvwb-6dFd"
   },
   "outputs": [
    {
     "name": "stdout",
     "output_type": "stream",
     "text": [
      "Downloading data from http://mlphysics.ics.uci.edu/data/higgs/HIGGS.csv.gz\n",
      "2816409600/2816407858 [==============================] - 200s 0us/step\n"
     ]
    }
   ],
   "source": [
    "gz = tf.keras.utils.get_file('HIGGS.csv.gz', 'http://mlphysics.ics.uci.edu/data/higgs/HIGGS.csv.gz')"
   ]
  },
  {
   "cell_type": "code",
   "execution_count": 8,
   "metadata": {
    "id": "AkiyUdaWIrww"
   },
   "outputs": [],
   "source": [
    "FEATURES = 28"
   ]
  },
  {
   "cell_type": "markdown",
   "metadata": {
    "id": "SFggl9gYKKRJ"
   },
   "source": [
    "The `tf.data.experimental.CsvDataset` class can be used to read csv records directly from a gzip file with no intermediate decompression step."
   ]
  },
  {
   "cell_type": "code",
   "execution_count": 9,
   "metadata": {
    "id": "QHz4sLVQEVIU"
   },
   "outputs": [],
   "source": [
    "ds = tf.data.experimental.CsvDataset(gz,[float(),]*(FEATURES+1), compression_type=\"GZIP\")"
   ]
  },
  {
   "cell_type": "markdown",
   "metadata": {
    "id": "HzahEELTKlSV"
   },
   "source": [
    "That csv reader class returns a list of scalars for each record. The following function repacks that list of scalars into a (feature_vector, label) pair."
   ]
  },
  {
   "cell_type": "code",
   "execution_count": 10,
   "metadata": {
    "id": "zPD6ICDlF6Wf"
   },
   "outputs": [],
   "source": [
    "def pack_row(*row):\n",
    "  label = row[0]\n",
    "  features = tf.stack(row[1:],1)\n",
    "  return features, label"
   ]
  },
  {
   "cell_type": "markdown",
   "metadata": {
    "id": "4oa8tLuwLsbO"
   },
   "source": [
    "TensorFlow is most efficient when operating on large batches of data.\n",
    "\n",
    "So instead of repacking each row individually make a new `Dataset` that takes batches of 10000-examples, applies the `pack_row` function to each batch, and then splits the batches back up into individual records:"
   ]
  },
  {
   "cell_type": "code",
   "execution_count": 11,
   "metadata": {
    "id": "-w-VHTwwGVoZ"
   },
   "outputs": [],
   "source": [
    "packed_ds = ds.batch(10000).map(pack_row).unbatch()"
   ]
  },
  {
   "cell_type": "markdown",
   "metadata": {
    "id": "lUbxc5bxNSXV"
   },
   "source": [
    "Have a look at some of the records from this new `packed_ds`.\n",
    "\n",
    "The features are not perfectly normalized, but this is sufficient for this tutorial."
   ]
  },
  {
   "cell_type": "code",
   "execution_count": 12,
   "metadata": {
    "id": "TfcXuv33Fvka"
   },
   "outputs": [
    {
     "name": "stdout",
     "output_type": "stream",
     "text": [
      "tf.Tensor(\n",
      "[ 0.8692932  -0.6350818   0.22569026  0.32747006 -0.6899932   0.75420225\n",
      " -0.24857314 -1.0920639   0.          1.3749921  -0.6536742   0.9303491\n",
      "  1.1074361   1.1389043  -1.5781983  -1.0469854   0.          0.65792954\n",
      " -0.01045457 -0.04576717  3.1019614   1.35376     0.9795631   0.97807616\n",
      "  0.92000484  0.72165745  0.98875093  0.87667835], shape=(28,), dtype=float32)\n"
     ]
    },
    {
     "data": {
      "image/png": "[encoded data removed]",
      "text/plain": [
       "<Figure size 432x288 with 1 Axes>"
      ]
     },
     "metadata": {
      "needs_background": "light"
     },
     "output_type": "display_data"
    }
   ],
   "source": [
    "for features,label in packed_ds.batch(1000).take(1):\n",
    "  print(features[0])\n",
    "  plt.hist(features.numpy().flatten(), bins = 101)"
   ]
  },
  {
   "cell_type": "markdown",
   "metadata": {
    "id": "ICKZRY7gN-QM"
   },
   "source": [
    "To keep this tutorial relatively short use just the first 1000 samples for validation, and the next 10 000 for training:"
   ]
  },
  {
   "cell_type": "code",
   "execution_count": 13,
   "metadata": {
    "id": "hmk49OqZIFZP"
   },
   "outputs": [],
   "source": [
    "N_VALIDATION = int(1e3)\n",
    "N_TRAIN = int(1e4)\n",
    "BUFFER_SIZE = int(1e4)\n",
    "BATCH_SIZE = 500\n",
    "STEPS_PER_EPOCH = N_TRAIN//BATCH_SIZE"
   ]
  },
  {
   "cell_type": "markdown",
   "metadata": {
    "id": "FP3M9DmvON32"
   },
   "source": [
    "The `Dataset.skip` and `Dataset.take` methods make this easy.\n",
    "\n",
    "At the same time, use the `Dataset.cache` method to ensure that the loader doesn't need to re-read the data from the file on each epoch:"
   ]
  },
  {
   "cell_type": "code",
   "execution_count": 14,
   "metadata": {
    "id": "H8H_ZzpBOOk-"
   },
   "outputs": [],
   "source": [
    "validate_ds = packed_ds.take(N_VALIDATION).cache()\n",
    "train_ds = packed_ds.skip(N_VALIDATION).take(N_TRAIN).cache()"
   ]
  },
  {
   "cell_type": "code",
   "execution_count": 15,
   "metadata": {
    "id": "9zAOqk2_Px7K"
   },
   "outputs": [
    {
     "data": {
      "text/plain": [
       "<CacheDataset shapes: ((28,), ()), types: (tf.float32, tf.float32)>"
      ]
     },
     "execution_count": 15,
     "metadata": {},
     "output_type": "execute_result"
    }
   ],
   "source": [
    "train_ds"
   ]
  },
  {
   "cell_type": "markdown",
   "metadata": {
    "id": "6PMliHoVO3OL"
   },
   "source": [
    "These datasets return individual examples. Use the `.batch` method to create batches of an appropriate size for training. Before batching also remember to `.shuffle` and `.repeat` the training set."
   ]
  },
  {
   "cell_type": "code",
   "execution_count": 16,
   "metadata": {
    "id": "Y7I4J355O223"
   },
   "outputs": [],
   "source": [
    "validate_ds = validate_ds.batch(BATCH_SIZE)\n",
    "train_ds = train_ds.shuffle(BUFFER_SIZE).repeat().batch(BATCH_SIZE)"
   ]
  },
  {
   "cell_type": "markdown",
   "metadata": {
    "id": "lglk41MwvU5o"
   },
   "source": [
    "## Demonstrate overfitting\n",
    "\n",
    "The simplest way to prevent overfitting is to start with a small model: A model with a small number of learnable parameters (which is determined by the number of layers and the number of units per layer). In deep learning, the number of learnable parameters in a model is often referred to as the model's \"capacity\".\n",
    "\n",
    "Intuitively, a model with more parameters will have more \"memorization capacity\" and therefore will be able to easily learn a perfect dictionary-like mapping between training samples and their targets, a mapping without any generalization power, but this would be useless when making predictions on previously unseen data.\n",
    "\n",
    "Always keep this in mind: deep learning models tend to be good at fitting to the training data, but the real challenge is generalization, not fitting.\n",
    "\n",
    "On the other hand, if the network has limited memorization resources, it will not be able to learn the mapping as easily. To minimize its loss, it will have to learn compressed representations that have more predictive power. At the same time, if you make your model too small, it will have difficulty fitting to the training data. There is a balance between \"too much capacity\" and \"not enough capacity\".\n",
    "\n",
    "Unfortunately, there is no magical formula to determine the right size or architecture of your model (in terms of the number of layers, or the right size for each layer). You will have to experiment using a series of different architectures.\n",
    "\n",
    "To find an appropriate model size, it's best to start with relatively few layers and parameters, then begin increasing the size of the layers or adding new layers until you see diminishing returns on the validation loss.\n",
    "\n",
    "Start with a simple model using only `layers.Dense` as a baseline, then create larger versions, and compare them."
   ]
  },
  {
   "cell_type": "markdown",
   "metadata": {
    "id": "_ReKHdC2EgVu"
   },
   "source": [
    "### Training procedure"
   ]
  },
  {
   "cell_type": "markdown",
   "metadata": {
    "id": "pNzkSkkXSP5l"
   },
   "source": [
    "Many models train better if you gradually reduce the learning rate during training. Use `optimizers.schedules` to reduce the learning rate over time:"
   ]
  },
  {
   "cell_type": "code",
   "execution_count": 17,
   "metadata": {
    "id": "LwQp-ERhAD6F"
   },
   "outputs": [],
   "source": [
    "lr_schedule = tf.keras.optimizers.schedules.InverseTimeDecay(\n",
    "  0.001,\n",
    "  decay_steps=STEPS_PER_EPOCH*1000,\n",
    "  decay_rate=1,\n",
    "  staircase=False)\n",
    "\n",
    "def get_optimizer():\n",
    "  return tf.keras.optimizers.Adam(lr_schedule)"
   ]
  },
  {
   "cell_type": "markdown",
   "metadata": {
    "id": "kANLx6OYTQ8B"
   },
   "source": [
    "The code above sets a `schedules.InverseTimeDecay` to hyperbolically decrease the learning rate to 1/2 of the base rate at 1000 epochs, 1/3 at 2000 epochs and so on."
   ]
  },
  {
   "cell_type": "code",
   "execution_count": 18,
   "metadata": {
    "id": "HIo_yPjEAFgn"
   },
   "outputs": [
    {
     "data": {
      "image/png": "[encoded data removed]",
      "text/plain": [
       "<Figure size 576x432 with 1 Axes>"
      ]
     },
     "metadata": {
      "needs_background": "light"
     },
     "output_type": "display_data"
    }
   ],
   "source": [
    "step = np.linspace(0,100000)\n",
    "lr = lr_schedule(step)\n",
    "plt.figure(figsize = (8,6))\n",
    "plt.plot(step/STEPS_PER_EPOCH, lr)\n",
    "plt.ylim([0,max(plt.ylim())])\n",
    "plt.xlabel('Epoch')\n",
    "_ = plt.ylabel('Learning Rate')\n"
   ]
  },
  {
   "cell_type": "markdown",
   "metadata": {
    "id": "ya7x7gr9UjU0"
   },
   "source": [
    "Each model in this tutorial will use the same training configuration. So set these up in a reusable way, starting with the list of callbacks.\n",
    "\n",
    "The training for this tutorial runs for many short epochs. To reduce the logging noise use the `tfdocs.EpochDots` which simply prints a `.` for each epoch, and a full set of metrics every 100 epochs.\n",
    "\n",
    "Next include `callbacks.EarlyStopping` to avoid long and unnecessary training times. Note that this callback is set to monitor the `val_binary_crossentropy`, not the `val_loss`. This difference will be important later.\n",
    "\n",
    "Use `callbacks.TensorBoard` to generate TensorBoard logs for the training.\n"
   ]
  },
  {
   "cell_type": "code",
   "execution_count": 19,
   "metadata": {
    "id": "vSv8rfw_T85n"
   },
   "outputs": [],
   "source": [
    "def get_callbacks(name):\n",
    "  return [\n",
    "    tfdocs.modeling.EpochDots(),\n",
    "    tf.keras.callbacks.EarlyStopping(monitor='val_binary_crossentropy', patience=200),\n",
    "    tf.keras.callbacks.TensorBoard(logdir/name),\n",
    "  ]"
   ]
  },
  {
   "cell_type": "markdown",
   "metadata": {
    "id": "VhctzKhBWVDD"
   },
   "source": [
    "Similarly each model will use the same `Model.compile` and `Model.fit` settings:"
   ]
  },
  {
   "cell_type": "code",
   "execution_count": 20,
   "metadata": {
    "id": "xRCGwU3YH5sT"
   },
   "outputs": [],
   "source": [
    "def compile_and_fit(model, name, optimizer=None, max_epochs=10000):\n",
    "  if optimizer is None:\n",
    "    optimizer = get_optimizer()\n",
    "  model.compile(optimizer=optimizer,\n",
    "                loss=tf.keras.losses.BinaryCrossentropy(from_logits=True),\n",
    "                metrics=[\n",
    "                  tf.keras.losses.BinaryCrossentropy(\n",
    "                      from_logits=True, name='binary_crossentropy'),\n",
    "                  'accuracy'])\n",
    "\n",
    "  model.summary()\n",
    "\n",
    "  history = model.fit(\n",
    "    train_ds,\n",
    "    steps_per_epoch = STEPS_PER_EPOCH,\n",
    "    epochs=max_epochs,\n",
    "    validation_data=validate_ds,\n",
    "    callbacks=get_callbacks(name),\n",
    "    verbose=0)\n",
    "  return history"
   ]
  },
  {
   "cell_type": "markdown",
   "metadata": {
    "id": "mxBeiLUiWHJV"
   },
   "source": [
    "### Tiny model"
   ]
  },
  {
   "cell_type": "markdown",
   "metadata": {
    "id": "a6JDv12scLTI"
   },
   "source": [
    "Start by training a model:"
   ]
  },
  {
   "cell_type": "code",
   "execution_count": 21,
   "metadata": {
    "id": "EZh-QFjKHb70"
   },
   "outputs": [],
   "source": [
    "tiny_model = tf.keras.Sequential([\n",
    "    layers.Dense(16, activation='elu', input_shape=(FEATURES,)),\n",
    "    layers.Dense(1)\n",
    "])"
   ]
  },
  {
   "cell_type": "code",
   "execution_count": 22,
   "metadata": {
    "id": "X72IUdWYipIS"
   },
   "outputs": [],
   "source": [
    "size_histories = {}"
   ]
  },
  {
   "cell_type": "code",
   "execution_count": 23,
   "metadata": {
    "id": "bdOcJtPGHhJ5"
   },
   "outputs": [
    {
     "name": "stdout",
     "output_type": "stream",
     "text": [
      "Model: \"sequential\"\n",
      "_________________________________________________________________\n",
      "Layer (type)                 Output Shape              Param #   \n",
      "=================================================================\n",
      "dense (Dense)                (None, 16)                464       \n",
      "_________________________________________________________________\n",
      "dense_1 (Dense)              (None, 1)                 17        \n",
      "=================================================================\n",
      "Total params: 481\n",
      "Trainable params: 481\n",
      "Non-trainable params: 0\n",
      "_________________________________________________________________\n",
      "WARNING:tensorflow:From /Users/guoqiong/opt/anaconda3/envs/py36tf2/lib/python3.6/site-packages/tensorflow/python/ops/summary_ops_v2.py:1277: stop (from tensorflow.python.eager.profiler) is deprecated and will be removed after 2020-07-01.\n",
      "Instructions for updating:\n",
      "use `tf.profiler.experimental.stop` instead.\n",
      "WARNING:tensorflow:Callbacks method `on_train_batch_end` is slow compared to the batch time (batch time: 0.0030s vs `on_train_batch_end` time: 0.0460s). Check your callbacks.\n",
      "\n",
      "Epoch: 0, accuracy:0.5002,  binary_crossentropy:0.8165,  loss:0.8165,  val_accuracy:0.4800,  val_binary_crossentropy:0.7917,  val_loss:0.7917,  \n",
      "....................................................................................................\n",
      "Epoch: 100, accuracy:0.5953,  binary_crossentropy:0.6286,  loss:0.6286,  val_accuracy:0.5740,  val_binary_crossentropy:0.6299,  val_loss:0.6299,  \n",
      "....................................................................................................\n",
      "Epoch: 200, accuracy:0.6142,  binary_crossentropy:0.6170,  loss:0.6170,  val_accuracy:0.6200,  val_binary_crossentropy:0.6168,  val_loss:0.6168,  \n",
      "....................................................................................................\n",
      "Epoch: 300, accuracy:0.6335,  binary_crossentropy:0.6066,  loss:0.6066,  val_accuracy:0.6310,  val_binary_crossentropy:0.6048,  val_loss:0.6048,  \n",
      "....................................................................................................\n",
      "Epoch: 400, accuracy:0.6521,  binary_crossentropy:0.5988,  loss:0.5988,  val_accuracy:0.6170,  val_binary_crossentropy:0.5999,  val_loss:0.5999,  \n",
      "....................................................................................................\n",
      "Epoch: 500, accuracy:0.6598,  binary_crossentropy:0.5931,  loss:0.5931,  val_accuracy:0.6400,  val_binary_crossentropy:0.5939,  val_loss:0.5939,  \n",
      "....................................................................................................\n",
      "Epoch: 600, accuracy:0.6604,  binary_crossentropy:0.5890,  loss:0.5890,  val_accuracy:0.6340,  val_binary_crossentropy:0.5910,  val_loss:0.5910,  \n",
      "....................................................................................................\n",
      "Epoch: 700, accuracy:0.6640,  binary_crossentropy:0.5855,  loss:0.5855,  val_accuracy:0.6680,  val_binary_crossentropy:0.5860,  val_loss:0.5860,  \n",
      "....................................................................................................\n",
      "Epoch: 800, accuracy:0.6669,  binary_crossentropy:0.5829,  loss:0.5829,  val_accuracy:0.6620,  val_binary_crossentropy:0.5843,  val_loss:0.5843,  \n",
      "....................................................................................................\n",
      "Epoch: 900, accuracy:0.6697,  binary_crossentropy:0.5808,  loss:0.5808,  val_accuracy:0.6740,  val_binary_crossentropy:0.5821,  val_loss:0.5821,  \n",
      "....................................................................................................\n",
      "Epoch: 1000, accuracy:0.6737,  binary_crossentropy:0.5791,  loss:0.5791,  val_accuracy:0.6600,  val_binary_crossentropy:0.5826,  val_loss:0.5826,  \n",
      "....................................................................................................\n",
      "Epoch: 1100, accuracy:0.6779,  binary_crossentropy:0.5765,  loss:0.5765,  val_accuracy:0.6500,  val_binary_crossentropy:0.5846,  val_loss:0.5846,  \n",
      "....................................................................................................\n",
      "Epoch: 1200, accuracy:0.6771,  binary_crossentropy:0.5749,  loss:0.5749,  val_accuracy:0.6780,  val_binary_crossentropy:0.5799,  val_loss:0.5799,  \n",
      "....................................................................................................\n",
      "Epoch: 1300, accuracy:0.6756,  binary_crossentropy:0.5735,  loss:0.5735,  val_accuracy:0.6750,  val_binary_crossentropy:0.5797,  val_loss:0.5797,  \n",
      "....................................................................................................\n",
      "Epoch: 1400, accuracy:0.6738,  binary_crossentropy:0.5716,  loss:0.5716,  val_accuracy:0.6890,  val_binary_crossentropy:0.5784,  val_loss:0.5784,  \n",
      "....................................................................................................\n",
      "Epoch: 1500, accuracy:0.6820,  binary_crossentropy:0.5704,  loss:0.5704,  val_accuracy:0.6720,  val_binary_crossentropy:0.5794,  val_loss:0.5794,  \n",
      "....................................................................................................\n",
      "Epoch: 1600, accuracy:0.6804,  binary_crossentropy:0.5688,  loss:0.5688,  val_accuracy:0.6850,  val_binary_crossentropy:0.5773,  val_loss:0.5773,  \n",
      "....................................................................................................\n",
      "Epoch: 1700, accuracy:0.6851,  binary_crossentropy:0.5683,  loss:0.5683,  val_accuracy:0.6670,  val_binary_crossentropy:0.5792,  val_loss:0.5792,  \n",
      "....................................................................................................\n",
      "Epoch: 1800, accuracy:0.6827,  binary_crossentropy:0.5672,  loss:0.5672,  val_accuracy:0.6730,  val_binary_crossentropy:0.5782,  val_loss:0.5782,  \n",
      "....................................................................................................\n",
      "Epoch: 1900, accuracy:0.6847,  binary_crossentropy:0.5658,  loss:0.5658,  val_accuracy:0.6720,  val_binary_crossentropy:0.5790,  val_loss:0.5790,  \n",
      "....................................................................................................\n",
      "Epoch: 2000, accuracy:0.6864,  binary_crossentropy:0.5645,  loss:0.5645,  val_accuracy:0.6690,  val_binary_crossentropy:0.5791,  val_loss:0.5791,  \n",
      "......"
     ]
    }
   ],
   "source": [
    "size_histories['Tiny'] = compile_and_fit(tiny_model, 'sizes/Tiny')"
   ]
  },
  {
   "cell_type": "markdown",
   "metadata": {
    "id": "rS_QGT6icwdI"
   },
   "source": [
    "Now check how the model did:"
   ]
  },
  {
   "cell_type": "code",
   "execution_count": 24,
   "metadata": {
    "id": "dkEvb2x5XsjE"
   },
   "outputs": [
    {
     "data": {
      "text/plain": [
       "(0.5, 0.7)"
      ]
     },
     "execution_count": 24,
     "metadata": {},
     "output_type": "execute_result"
    },
    {
     "data": {
      "image/png": "[encoded data removed]",
      "text/plain": [
       "<Figure size 432x288 with 1 Axes>"
      ]
     },
     "metadata": {
      "needs_background": "light"
     },
     "output_type": "display_data"
    }
   ],
   "source": [
    "plotter = tfdocs.plots.HistoryPlotter(metric = 'binary_crossentropy', smoothing_std=10)\n",
    "plotter.plot(size_histories)\n",
    "plt.ylim([0.5, 0.7])"
   ]
  },
  {
   "cell_type": "markdown",
   "metadata": {
    "id": "LGxGzh_FWOJ8"
   },
   "source": [
    "### Small model"
   ]
  },
  {
   "cell_type": "markdown",
   "metadata": {
    "id": "YjMb6E72f2pN"
   },
   "source": [
    "To see if you can beat the performance of the small model, progressively train some larger models.\n",
    "\n",
    "Try two hidden layers with 16 units each:"
   ]
  },
  {
   "cell_type": "code",
   "execution_count": 25,
   "metadata": {
    "id": "QKgdXPx9usBa"
   },
   "outputs": [],
   "source": [
    "small_model = tf.keras.Sequential([\n",
    "    # `input_shape` is only required here so that `.summary` works.\n",
    "    layers.Dense(16, activation='elu', input_shape=(FEATURES,)),\n",
    "    layers.Dense(16, activation='elu'),\n",
    "    layers.Dense(1)\n",
    "])"
   ]
  },
  {
   "cell_type": "code",
   "execution_count": 26,
   "metadata": {
    "id": "LqG3MXF5xSjR"
   },
   "outputs": [
    {
     "name": "stdout",
     "output_type": "stream",
     "text": [
      "Model: \"sequential_1\"\n",
      "_________________________________________________________________\n",
      "Layer (type)                 Output Shape              Param #   \n",
      "=================================================================\n",
      "dense_2 (Dense)              (None, 16)                464       \n",
      "_________________________________________________________________\n",
      "dense_3 (Dense)              (None, 16)                272       \n",
      "_________________________________________________________________\n",
      "dense_4 (Dense)              (None, 1)                 17        \n",
      "=================================================================\n",
      "Total params: 753\n",
      "Trainable params: 753\n",
      "Non-trainable params: 0\n",
      "_________________________________________________________________\n",
      "WARNING:tensorflow:Callbacks method `on_train_batch_end` is slow compared to the batch time (batch time: 0.0026s vs `on_train_batch_end` time: 0.0584s). Check your callbacks.\n",
      "\n",
      "Epoch: 0, accuracy:0.4856,  binary_crossentropy:0.7235,  loss:0.7235,  val_accuracy:0.4750,  val_binary_crossentropy:0.7140,  val_loss:0.7140,  \n",
      "....................................................................................................\n",
      "Epoch: 100, accuracy:0.6044,  binary_crossentropy:0.6256,  loss:0.6256,  val_accuracy:0.5940,  val_binary_crossentropy:0.6220,  val_loss:0.6220,  \n",
      "....................................................................................................\n",
      "Epoch: 200, accuracy:0.6312,  binary_crossentropy:0.6102,  loss:0.6102,  val_accuracy:0.6360,  val_binary_crossentropy:0.6061,  val_loss:0.6061,  \n",
      "....................................................................................................\n",
      "Epoch: 300, accuracy:0.6563,  binary_crossentropy:0.5962,  loss:0.5962,  val_accuracy:0.6510,  val_binary_crossentropy:0.5932,  val_loss:0.5932,  \n",
      "....................................................................................................\n",
      "Epoch: 400, accuracy:0.6662,  binary_crossentropy:0.5847,  loss:0.5847,  val_accuracy:0.6440,  val_binary_crossentropy:0.5898,  val_loss:0.5898,  \n",
      "....................................................................................................\n",
      "Epoch: 500, accuracy:0.6801,  binary_crossentropy:0.5759,  loss:0.5759,  val_accuracy:0.6630,  val_binary_crossentropy:0.5846,  val_loss:0.5846,  \n",
      "....................................................................................................\n",
      "Epoch: 600, accuracy:0.6801,  binary_crossentropy:0.5699,  loss:0.5699,  val_accuracy:0.6810,  val_binary_crossentropy:0.5798,  val_loss:0.5798,  \n",
      "....................................................................................................\n",
      "Epoch: 700, accuracy:0.6788,  binary_crossentropy:0.5672,  loss:0.5672,  val_accuracy:0.6800,  val_binary_crossentropy:0.5799,  val_loss:0.5799,  \n",
      "....................................................................................................\n",
      "Epoch: 800, accuracy:0.6897,  binary_crossentropy:0.5621,  loss:0.5621,  val_accuracy:0.6960,  val_binary_crossentropy:0.5805,  val_loss:0.5805,  \n",
      "....................................................................................................\n",
      "Epoch: 900, accuracy:0.6908,  binary_crossentropy:0.5582,  loss:0.5582,  val_accuracy:0.6710,  val_binary_crossentropy:0.5837,  val_loss:0.5837,  \n",
      "....................................................................................................\n",
      "Epoch: 1000, accuracy:0.6955,  binary_crossentropy:0.5556,  loss:0.5556,  val_accuracy:0.6820,  val_binary_crossentropy:0.5831,  val_loss:0.5831,  \n",
      "..."
     ]
    }
   ],
   "source": [
    "size_histories['Small'] = compile_and_fit(small_model, 'sizes/Small')"
   ]
  },
  {
   "cell_type": "markdown",
   "metadata": {
    "id": "L-DGRBbGxI6G"
   },
   "source": [
    "### Medium model"
   ]
  },
  {
   "cell_type": "markdown",
   "metadata": {
    "id": "SrfoVQheYSO5"
   },
   "source": [
    "Now try 3 hidden layers with 64 units each:"
   ]
  },
  {
   "cell_type": "code",
   "execution_count": 27,
   "metadata": {
    "id": "jksi-XtaxDAh"
   },
   "outputs": [],
   "source": [
    "medium_model = tf.keras.Sequential([\n",
    "    layers.Dense(64, activation='elu', input_shape=(FEATURES,)),\n",
    "    layers.Dense(64, activation='elu'),\n",
    "    layers.Dense(64, activation='elu'),\n",
    "    layers.Dense(1)\n",
    "])"
   ]
  },
  {
   "cell_type": "markdown",
   "metadata": {
    "id": "jbngCZliYdma"
   },
   "source": [
    "And train the model using the same data:"
   ]
  },
  {
   "cell_type": "code",
   "execution_count": 28,
   "metadata": {
    "id": "Ofn1AwDhx-Fe"
   },
   "outputs": [
    {
     "name": "stdout",
     "output_type": "stream",
     "text": [
      "Model: \"sequential_2\"\n",
      "_________________________________________________________________\n",
      "Layer (type)                 Output Shape              Param #   \n",
      "=================================================================\n",
      "dense_5 (Dense)              (None, 64)                1856      \n",
      "_________________________________________________________________\n",
      "dense_6 (Dense)              (None, 64)                4160      \n",
      "_________________________________________________________________\n",
      "dense_7 (Dense)              (None, 64)                4160      \n",
      "_________________________________________________________________\n",
      "dense_8 (Dense)              (None, 1)                 65        \n",
      "=================================================================\n",
      "Total params: 10,241\n",
      "Trainable params: 10,241\n",
      "Non-trainable params: 0\n",
      "_________________________________________________________________\n",
      "WARNING:tensorflow:Callbacks method `on_train_batch_end` is slow compared to the batch time (batch time: 0.0031s vs `on_train_batch_end` time: 0.0589s). Check your callbacks.\n",
      "\n",
      "Epoch: 0, accuracy:0.4899,  binary_crossentropy:0.6916,  loss:0.6916,  val_accuracy:0.5010,  val_binary_crossentropy:0.6741,  val_loss:0.6741,  \n",
      "....................................................................................................\n",
      "Epoch: 100, accuracy:0.7194,  binary_crossentropy:0.5274,  loss:0.5274,  val_accuracy:0.6340,  val_binary_crossentropy:0.6110,  val_loss:0.6110,  \n",
      "....................................................................................................\n",
      "Epoch: 200, accuracy:0.7857,  binary_crossentropy:0.4260,  loss:0.4260,  val_accuracy:0.6320,  val_binary_crossentropy:0.6898,  val_loss:0.6898,  \n",
      "..................................................."
     ]
    }
   ],
   "source": [
    "size_histories['Medium']  = compile_and_fit(medium_model, \"sizes/Medium\")"
   ]
  },
  {
   "cell_type": "markdown",
   "metadata": {
    "id": "vIPuf23FFaVn"
   },
   "source": [
    "### Large model\n",
    "\n",
    "As an exercise, you can create an even larger model, and see how quickly it begins overfitting.  Next, let's add to this benchmark a network that has much more capacity, far more than the problem would warrant:"
   ]
  },
  {
   "cell_type": "code",
   "execution_count": 29,
   "metadata": {
    "id": "ghQwwqwqvQM9"
   },
   "outputs": [],
   "source": [
    "large_model = tf.keras.Sequential([\n",
    "    layers.Dense(512, activation='elu', input_shape=(FEATURES,)),\n",
    "    layers.Dense(512, activation='elu'),\n",
    "    layers.Dense(512, activation='elu'),\n",
    "    layers.Dense(512, activation='elu'),\n",
    "    layers.Dense(1)\n",
    "])"
   ]
  },
  {
   "cell_type": "markdown",
   "metadata": {
    "id": "D-d-i5DaYmr7"
   },
   "source": [
    "And, again, train the model using the same data:"
   ]
  },
  {
   "cell_type": "code",
   "execution_count": 30,
   "metadata": {
    "id": "U1A99dhqvepf"
   },
   "outputs": [
    {
     "name": "stdout",
     "output_type": "stream",
     "text": [
      "Model: \"sequential_3\"\n",
      "_________________________________________________________________\n",
      "Layer (type)                 Output Shape              Param #   \n",
      "=================================================================\n",
      "dense_9 (Dense)              (None, 512)               14848     \n",
      "_________________________________________________________________\n",
      "dense_10 (Dense)             (None, 512)               262656    \n",
      "_________________________________________________________________\n",
      "dense_11 (Dense)             (None, 512)               262656    \n",
      "_________________________________________________________________\n",
      "dense_12 (Dense)             (None, 512)               262656    \n",
      "_________________________________________________________________\n",
      "dense_13 (Dense)             (None, 1)                 513       \n",
      "=================================================================\n",
      "Total params: 803,329\n",
      "Trainable params: 803,329\n",
      "Non-trainable params: 0\n",
      "_________________________________________________________________\n",
      "WARNING:tensorflow:Callbacks method `on_train_batch_end` is slow compared to the batch time (batch time: 0.0130s vs `on_train_batch_end` time: 0.0613s). Check your callbacks.\n",
      "\n",
      "Epoch: 0, accuracy:0.5286,  binary_crossentropy:0.7393,  loss:0.7393,  val_accuracy:0.5380,  val_binary_crossentropy:0.6617,  val_loss:0.6617,  \n",
      "....................................................................................................\n",
      "Epoch: 100, accuracy:1.0000,  binary_crossentropy:0.0019,  loss:0.0019,  val_accuracy:0.6640,  val_binary_crossentropy:1.8478,  val_loss:1.8478,  \n",
      "....................................................................................................\n",
      "Epoch: 200, accuracy:1.0000,  binary_crossentropy:0.0001,  loss:0.0001,  val_accuracy:0.6640,  val_binary_crossentropy:2.5197,  val_loss:2.5197,  \n",
      "..............."
     ]
    }
   ],
   "source": [
    "size_histories['large'] = compile_and_fit(large_model, \"sizes/large\")"
   ]
  },
  {
   "cell_type": "markdown",
   "metadata": {
    "id": "Fy3CMUZpzH3d"
   },
   "source": [
    "### Plot the training and validation losses"
   ]
  },
  {
   "cell_type": "markdown",
   "metadata": {
    "id": "HSlo1F4xHuuM"
   },
   "source": [
    "The solid lines show the training loss, and the dashed lines show the validation loss (remember: a lower validation loss indicates a better model)."
   ]
  },
  {
   "cell_type": "markdown",
   "metadata": {
    "id": "OLhL1AszdLfM"
   },
   "source": [
    "While building a larger model gives it more power, if this power is not constrained somehow it can easily overfit to the training set.\n",
    "\n",
    "In this example, typically, only the `\"Tiny\"` model manages to avoid overfitting altogether, and each of the larger models overfit the data more quickly. This becomes so severe for the `\"large\"` model that you need to switch the plot to a log-scale to really see what's happening.\n",
    "\n",
    "This is apparent if you plot and compare the validation metrics to the training metrics.\n",
    "\n",
    "* It's normal for there to be a small difference.\n",
    "* If both metrics are moving in the same direction, everything is fine.\n",
    "* If the validation metric begins to stagnate while the training metric continues to improve, you are probably close to overfitting.\n",
    "* If the validation metric is going in the wrong direction, the model is clearly overfitting."
   ]
  },
  {
   "cell_type": "code",
   "execution_count": 31,
   "metadata": {
    "id": "0XmKDtOWzOpk"
   },
   "outputs": [
    {
     "data": {
      "text/plain": [
       "Text(0.5, 0, 'Epochs [Log Scale]')"
      ]
     },
     "execution_count": 31,
     "metadata": {},
     "output_type": "execute_result"
    },
    {
     "data": {
      "image/png": "[encoded data removed]",
      "text/plain": [
       "<Figure size 432x288 with 1 Axes>"
      ]
     },
     "metadata": {
      "needs_background": "light"
     },
     "output_type": "display_data"
    }
   ],
   "source": [
    "plotter.plot(size_histories)\n",
    "a = plt.xscale('log')\n",
    "plt.xlim([5, max(plt.xlim())])\n",
    "plt.ylim([0.5, 0.7])\n",
    "plt.xlabel(\"Epochs [Log Scale]\")"
   ]
  },
  {
   "cell_type": "markdown",
   "metadata": {
    "id": "UekcaQdmZxnW"
   },
   "source": [
    "Note: All the above training runs used the `callbacks.EarlyStopping` to end the training once it was clear the model was not making progress."
   ]
  },
  {
   "cell_type": "markdown",
   "metadata": {
    "id": "DEQNKadHA0M3"
   },
   "source": [
    "### View in TensorBoard\n",
    "\n",
    "These models all wrote TensorBoard logs during training.\n",
    "\n",
    "Open an embedded  TensorBoard viewer inside a notebook:"
   ]
  },
  {
   "cell_type": "code",
   "execution_count": 32,
   "metadata": {
    "id": "6oa1lkJddZ-m"
   },
   "outputs": [
    {
     "data": {
      "text/html": [
       "\n",
       "      <iframe id=\"tensorboard-frame-1cf6937a004694d8\" width=\"100%\" height=\"800\" frameborder=\"0\">\n",
       "      </iframe>\n",
       "      <script>\n",
       "        (function() {\n",
       "          const frame = document.getElementById(\"tensorboard-frame-1cf6937a004694d8\");\n",
       "          const url = new URL(\"/\", window.location);\n",
       "          const port = 6006;\n",
       "          if (port) {\n",
       "            url.port = port;\n",
       "          }\n",
       "          frame.src = url;\n",
       "        })();\n",
       "      </script>\n",
       "    "
      ],
      "text/plain": [
       "<IPython.core.display.HTML object>"
      ]
     },
     "metadata": {},
     "output_type": "display_data"
    }
   ],
   "source": [
    "#docs_infra: no_execute\n",
    "\n",
    "# Load the TensorBoard notebook extension\n",
    "%load_ext tensorboard\n",
    "\n",
    "# Open an embedded TensorBoard viewer\n",
    "%tensorboard --logdir {logdir}/sizes"
   ]
  },
  {
   "cell_type": "markdown",
   "metadata": {
    "id": "fjqx3bywDPjf"
   },
   "source": [
    "You can view the [results of a previous run](https://tensorboard.dev/experiment/vW7jmmF9TmKmy3rbheMQpw/#scalars&_smoothingWeight=0.97) of this notebook on [TensorBoard.dev](https://tensorboard.dev/).\n",
    "\n",
    "TensorBoard.dev is a managed experience for hosting, tracking, and sharing ML experiments with everyone.\n",
    "\n",
    "It's also included in an `<iframe>` for convenience:"
   ]
  },
  {
   "cell_type": "code",
   "execution_count": 33,
   "metadata": {
    "id": "dX5fcgrADwym"
   },
   "outputs": [
    {
     "data": {
      "text/html": [
       "\n",
       "        <iframe\n",
       "            width=\"100%\"\n",
       "            height=\"800px\"\n",
       "            src=\"https://tensorboard.dev/experiment/vW7jmmF9TmKmy3rbheMQpw/#scalars&_smoothingWeight=0.97\"\n",
       "            frameborder=\"0\"\n",
       "            allowfullscreen\n",
       "        ></iframe>\n",
       "        "
      ],
      "text/plain": [
       "<IPython.lib.display.IFrame at 0x7fe1dde64748>"
      ]
     },
     "execution_count": 33,
     "metadata": {},
     "output_type": "execute_result"
    }
   ],
   "source": [
    "display.IFrame(\n",
    "    src=\"https://tensorboard.dev/experiment/vW7jmmF9TmKmy3rbheMQpw/#scalars&_smoothingWeight=0.97\",\n",
    "    width=\"100%\", height=\"800px\")"
   ]
  },
  {
   "cell_type": "markdown",
   "metadata": {
    "id": "RDQDBKYZBXF_"
   },
   "source": [
    "If you want to share TensorBoard results you can upload the logs to [TensorBoard.dev](https://tensorboard.dev/) by copying the following into a code-cell.\n",
    "\n",
    "Note: This step requires a Google account.\n",
    "\n",
    "```\n",
    "!tensorboard dev upload --logdir  {logdir}/sizes\n",
    "```\n",
    "\n",
    "Caution: This command does not terminate. It's designed to continuously upload the results of long-running experiments. Once your data is uploaded you need to stop it using the \"interrupt execution\" option in your notebook tool."
   ]
  },
  {
   "cell_type": "markdown",
   "metadata": {
    "id": "ASdv7nsgEFhx"
   },
   "source": [
    "## Strategies to prevent overfitting"
   ]
  },
  {
   "cell_type": "markdown",
   "metadata": {
    "id": "YN512ksslaxJ"
   },
   "source": [
    "Before getting into the content of this section copy the training logs from the `\"Tiny\"` model above, to use as a baseline for comparison."
   ]
  },
  {
   "cell_type": "code",
   "execution_count": 34,
   "metadata": {
    "id": "40k1eBtnQzNo"
   },
   "outputs": [
    {
     "data": {
      "text/plain": [
       "PosixPath('/var/folders/49/hknzcxwd73gb_vrqqdgcdd9m0000gq/T/tmppiiokgc_/tensorboard_logs/regularizers/Tiny')"
      ]
     },
     "execution_count": 34,
     "metadata": {},
     "output_type": "execute_result"
    }
   ],
   "source": [
    "shutil.rmtree(logdir/'regularizers/Tiny', ignore_errors=True)\n",
    "shutil.copytree(logdir/'sizes/Tiny', logdir/'regularizers/Tiny')"
   ]
  },
  {
   "cell_type": "code",
   "execution_count": 35,
   "metadata": {
    "id": "vFWMeFo7jLpN"
   },
   "outputs": [],
   "source": [
    "regularizer_histories = {}\n",
    "regularizer_histories['Tiny'] = size_histories['Tiny']"
   ]
  },
  {
   "cell_type": "markdown",
   "metadata": {
    "id": "4rHoVWcswFLa"
   },
   "source": [
    "### Add weight regularization\n"
   ]
  },
  {
   "cell_type": "markdown",
   "metadata": {
    "id": "kRxWepNawbBK"
   },
   "source": [
    "You may be familiar with Occam's Razor principle: given two explanations for something, the explanation most likely to be correct is the \"simplest\" one, the one that makes the least amount of assumptions. This also applies to the models learned by neural networks: given some training data and a network architecture, there are multiple sets of weights values (multiple models) that could explain the data, and simpler models are less likely to overfit than complex ones.\n",
    "\n",
    "A \"simple model\" in this context is a model where the distribution of parameter values has less entropy (or a model with fewer parameters altogether, as we saw in the section above). Thus a common way to mitigate overfitting is to put constraints on the complexity of a network by forcing its weights only to take small values, which makes the distribution of weight values more \"regular\". This is called \"weight regularization\", and it is done by adding to the loss function of the network a cost associated with having large weights. This cost comes in two flavors:\n",
    "\n",
    "* [L1 regularization](https://developers.google.com/machine-learning/glossary/#L1_regularization), where the cost added is proportional to the absolute value of the weights coefficients (i.e. to what is called the \"L1 norm\" of the weights).\n",
    "\n",
    "* [L2 regularization](https://developers.google.com/machine-learning/glossary/#L2_regularization), where the cost added is proportional to the square of the value of the weights coefficients (i.e. to what is called the squared \"L2 norm\" of the weights). L2 regularization is also called weight decay in the context of neural networks. Don't let the different name confuse you: weight decay is mathematically the exact same as L2 regularization.\n",
    "\n",
    "L1 regularization pushes weights towards exactly zero encouraging a sparse model. L2 regularization will penalize the weights parameters without making them sparse since the penalty goes to zero for small weights-one reason why L2 is more common.\n",
    "\n",
    "In `tf.keras`, weight regularization is added by passing weight regularizer instances to layers as keyword arguments. Let's add L2 weight regularization now."
   ]
  },
  {
   "cell_type": "code",
   "execution_count": 36,
   "metadata": {
    "id": "HFGmcwduwVyQ"
   },
   "outputs": [
    {
     "name": "stdout",
     "output_type": "stream",
     "text": [
      "Model: \"sequential_4\"\n",
      "_________________________________________________________________\n",
      "Layer (type)                 Output Shape              Param #   \n",
      "=================================================================\n",
      "dense_14 (Dense)             (None, 512)               14848     \n",
      "_________________________________________________________________\n",
      "dense_15 (Dense)             (None, 512)               262656    \n",
      "_________________________________________________________________\n",
      "dense_16 (Dense)             (None, 512)               262656    \n",
      "_________________________________________________________________\n",
      "dense_17 (Dense)             (None, 512)               262656    \n",
      "_________________________________________________________________\n",
      "dense_18 (Dense)             (None, 1)                 513       \n",
      "=================================================================\n",
      "Total params: 803,329\n",
      "Trainable params: 803,329\n",
      "Non-trainable params: 0\n",
      "_________________________________________________________________\n",
      "WARNING:tensorflow:Callbacks method `on_train_batch_end` is slow compared to the batch time (batch time: 0.0184s vs `on_train_batch_end` time: 0.1302s). Check your callbacks.\n",
      "\n",
      "Epoch: 0, accuracy:0.4949,  binary_crossentropy:0.8359,  loss:2.3569,  val_accuracy:0.5510,  val_binary_crossentropy:0.6797,  val_loss:2.1314,  \n",
      "....................................................................................................\n",
      "Epoch: 100, accuracy:0.6573,  binary_crossentropy:0.5963,  loss:0.6195,  val_accuracy:0.6550,  val_binary_crossentropy:0.5832,  val_loss:0.6064,  \n",
      "....................................................................................................\n",
      "Epoch: 200, accuracy:0.6702,  binary_crossentropy:0.5848,  loss:0.6069,  val_accuracy:0.6910,  val_binary_crossentropy:0.5786,  val_loss:0.6008,  \n",
      "....................................................................................................\n",
      "Epoch: 300, accuracy:0.6755,  binary_crossentropy:0.5801,  loss:0.6050,  val_accuracy:0.6640,  val_binary_crossentropy:0.5817,  val_loss:0.6066,  \n",
      "....................................................................................................\n",
      "Epoch: 400, accuracy:0.6826,  binary_crossentropy:0.5721,  loss:0.5952,  val_accuracy:0.6460,  val_binary_crossentropy:0.5901,  val_loss:0.6131,  \n",
      "..................................................................................................."
     ]
    }
   ],
   "source": [
    "l2_model = tf.keras.Sequential([\n",
    "    layers.Dense(512, activation='elu',\n",
    "                 kernel_regularizer=regularizers.l2(0.001),\n",
    "                 input_shape=(FEATURES,)),\n",
    "    layers.Dense(512, activation='elu',\n",
    "                 kernel_regularizer=regularizers.l2(0.001)),\n",
    "    layers.Dense(512, activation='elu',\n",
    "                 kernel_regularizer=regularizers.l2(0.001)),\n",
    "    layers.Dense(512, activation='elu',\n",
    "                 kernel_regularizer=regularizers.l2(0.001)),\n",
    "    layers.Dense(1)\n",
    "])\n",
    "\n",
    "regularizer_histories['l2'] = compile_and_fit(l2_model, \"regularizers/l2\")"
   ]
  },
  {
   "cell_type": "markdown",
   "metadata": {
    "id": "bUUHoXb7w-_C"
   },
   "source": [
    "`l2(0.001)` means that every coefficient in the weight matrix of the layer will add `0.001 * weight_coefficient_value**2` to the total **loss** of the network.\n",
    "\n",
    "That is why we're monitoring the `binary_crossentropy` directly. Because it doesn't have this regularization component mixed in.\n",
    "\n",
    "So, that same `\"Large\"` model with an `L2` regularization penalty performs much better:\n"
   ]
  },
  {
   "cell_type": "code",
   "execution_count": 37,
   "metadata": {
    "id": "7wkfLyxBZdh_"
   },
   "outputs": [
    {
     "data": {
      "text/plain": [
       "(0.5, 0.7)"
      ]
     },
     "execution_count": 37,
     "metadata": {},
     "output_type": "execute_result"
    },
    {
     "data": {
      "image/png": "[encoded data removed]",
      "text/plain": [
       "<Figure size 432x288 with 1 Axes>"
      ]
     },
     "metadata": {
      "needs_background": "light"
     },
     "output_type": "display_data"
    }
   ],
   "source": [
    "plotter.plot(regularizer_histories)\n",
    "plt.ylim([0.5, 0.7])"
   ]
  },
  {
   "cell_type": "markdown",
   "metadata": {
    "id": "Kx1YHMsVxWjP"
   },
   "source": [
    "As you can see, the `\"L2\"` regularized model is now much more competitive with the the `\"Tiny\"` model. This `\"L2\"` model is also much more resistant to overfitting than the `\"Large\"` model it was based on despite having the same number of parameters."
   ]
  },
  {
   "cell_type": "markdown",
   "metadata": {
    "id": "JheBk6f8jMQ7"
   },
   "source": [
    "#### More info\n",
    "\n",
    "There are two important things to note about this sort of regularization.\n",
    "\n",
    "**First:** if you are writing your own training loop, then you need to be sure to ask the model for its regularization losses."
   ]
  },
  {
   "cell_type": "code",
   "execution_count": 38,
   "metadata": {
    "id": "apDHQNybjaML"
   },
   "outputs": [],
   "source": [
    "result = l2_model(features)\n",
    "regularization_loss=tf.add_n(l2_model.losses)"
   ]
  },
  {
   "cell_type": "markdown",
   "metadata": {
    "id": "MLhG6fMSjE-J"
   },
   "source": [
    "**Second:** This implementation works by adding the weight penalties to the model's loss, and then applying a standard optimization procedure after that.\n",
    "\n",
    "There is a second approach that instead only runs the optimizer on the raw loss, and then while applying the calculated step the optimizer also applies some weight decay. This \"Decoupled Weight Decay\" is seen in optimizers like `optimizers.FTRL` and `optimizers.AdamW`."
   ]
  },
  {
   "cell_type": "markdown",
   "metadata": {
    "id": "HmnBNOOVxiG8"
   },
   "source": [
    "### Add dropout\n",
    "\n",
    "Dropout is one of the most effective and most commonly used regularization techniques for neural networks, developed by Hinton and his students at the University of Toronto.\n",
    "\n",
    "The intuitive explanation for dropout is that because individual nodes in the network cannot rely on the output of the others, each node must output features that are useful on their own.\n",
    "\n",
    "Dropout, applied to a layer, consists of randomly \"dropping out\" (i.e. set to zero) a number of output features of the layer during training. Let's say a given layer would normally have returned a vector [0.2, 0.5, 1.3, 0.8, 1.1] for a given input sample during training; after applying dropout, this vector will have a few zero entries distributed at random, e.g. [0, 0.5,\n",
    "1.3, 0, 1.1].\n",
    "\n",
    "The \"dropout rate\" is the fraction of the features that are being zeroed-out; it is usually set between 0.2 and 0.5. At test time, no units are dropped out, and instead the layer's output values are scaled down by a factor equal to the dropout rate, so as to balance for the fact that more units are active than at training time.\n",
    "\n",
    "In `tf.keras` you can introduce dropout in a network via the Dropout layer, which gets applied to the output of layer right before.\n",
    "\n",
    "Let's add two Dropout layers in our network to see how well they do at reducing overfitting:"
   ]
  },
  {
   "cell_type": "code",
   "execution_count": 39,
   "metadata": {
    "id": "OFEYvtrHxSWS"
   },
   "outputs": [
    {
     "name": "stdout",
     "output_type": "stream",
     "text": [
      "Model: \"sequential_5\"\n",
      "_________________________________________________________________\n",
      "Layer (type)                 Output Shape              Param #   \n",
      "=================================================================\n",
      "dense_19 (Dense)             (None, 512)               14848     \n",
      "_________________________________________________________________\n",
      "dropout (Dropout)            (None, 512)               0         \n",
      "_________________________________________________________________\n",
      "dense_20 (Dense)             (None, 512)               262656    \n",
      "_________________________________________________________________\n",
      "dropout_1 (Dropout)          (None, 512)               0         \n",
      "_________________________________________________________________\n",
      "dense_21 (Dense)             (None, 512)               262656    \n",
      "_________________________________________________________________\n",
      "dropout_2 (Dropout)          (None, 512)               0         \n",
      "_________________________________________________________________\n",
      "dense_22 (Dense)             (None, 512)               262656    \n",
      "_________________________________________________________________\n",
      "dropout_3 (Dropout)          (None, 512)               0         \n",
      "_________________________________________________________________\n",
      "dense_23 (Dense)             (None, 1)                 513       \n",
      "=================================================================\n",
      "Total params: 803,329\n",
      "Trainable params: 803,329\n",
      "Non-trainable params: 0\n",
      "_________________________________________________________________\n",
      "WARNING:tensorflow:Callbacks method `on_train_batch_end` is slow compared to the batch time (batch time: 0.0190s vs `on_train_batch_end` time: 0.0724s). Check your callbacks.\n",
      "\n",
      "Epoch: 0, accuracy:0.5113,  binary_crossentropy:0.7836,  loss:0.7836,  val_accuracy:0.5540,  val_binary_crossentropy:0.6708,  val_loss:0.6708,  \n",
      "....................................................................................................\n",
      "Epoch: 100, accuracy:0.6606,  binary_crossentropy:0.5934,  loss:0.5934,  val_accuracy:0.6830,  val_binary_crossentropy:0.5720,  val_loss:0.5720,  \n",
      "....................................................................................................\n",
      "Epoch: 200, accuracy:0.6848,  binary_crossentropy:0.5535,  loss:0.5535,  val_accuracy:0.6990,  val_binary_crossentropy:0.5864,  val_loss:0.5864,  \n",
      "....................................................................................................\n",
      "Epoch: 300, accuracy:0.7211,  binary_crossentropy:0.5096,  loss:0.5096,  val_accuracy:0.6760,  val_binary_crossentropy:0.6117,  val_loss:0.6117,  \n",
      "............................................"
     ]
    }
   ],
   "source": [
    "dropout_model = tf.keras.Sequential([\n",
    "    layers.Dense(512, activation='elu', input_shape=(FEATURES,)),\n",
    "    layers.Dropout(0.5),\n",
    "    layers.Dense(512, activation='elu'),\n",
    "    layers.Dropout(0.5),\n",
    "    layers.Dense(512, activation='elu'),\n",
    "    layers.Dropout(0.5),\n",
    "    layers.Dense(512, activation='elu'),\n",
    "    layers.Dropout(0.5),\n",
    "    layers.Dense(1)\n",
    "])\n",
    "\n",
    "regularizer_histories['dropout'] = compile_and_fit(dropout_model, \"regularizers/dropout\")"
   ]
  },
  {
   "cell_type": "code",
   "execution_count": 40,
   "metadata": {
    "id": "SPZqwVchx5xp"
   },
   "outputs": [
    {
     "data": {
      "text/plain": [
       "(0.5, 0.7)"
      ]
     },
     "execution_count": 40,
     "metadata": {},
     "output_type": "execute_result"
    },
    {
     "data": {
      "image/png": "[encoded data removed]",
      "text/plain": [
       "<Figure size 432x288 with 1 Axes>"
      ]
     },
     "metadata": {
      "needs_background": "light"
     },
     "output_type": "display_data"
    }
   ],
   "source": [
    "plotter.plot(regularizer_histories)\n",
    "plt.ylim([0.5, 0.7])"
   ]
  },
  {
   "cell_type": "markdown",
   "metadata": {
    "id": "4zlHr4iaI1U6"
   },
   "source": [
    "It's clear from this plot that both of these regularization approaches improve the behavior of the `\"Large\"` model. But this still doesn't beat even the `\"Tiny\"` baseline.\n",
    "\n",
    "Next try them both, together, and see if that does better."
   ]
  },
  {
   "cell_type": "markdown",
   "metadata": {
    "id": "u7qMg_7Nwy5t"
   },
   "source": [
    "### Combined L2 + dropout"
   ]
  },
  {
   "cell_type": "code",
   "execution_count": 41,
   "metadata": {
    "id": "7zfs_qQIw1cz"
   },
   "outputs": [
    {
     "name": "stdout",
     "output_type": "stream",
     "text": [
      "Model: \"sequential_6\"\n",
      "_________________________________________________________________\n",
      "Layer (type)                 Output Shape              Param #   \n",
      "=================================================================\n",
      "dense_24 (Dense)             (None, 512)               14848     \n",
      "_________________________________________________________________\n",
      "dropout_4 (Dropout)          (None, 512)               0         \n",
      "_________________________________________________________________\n",
      "dense_25 (Dense)             (None, 512)               262656    \n",
      "_________________________________________________________________\n",
      "dropout_5 (Dropout)          (None, 512)               0         \n",
      "_________________________________________________________________\n",
      "dense_26 (Dense)             (None, 512)               262656    \n",
      "_________________________________________________________________\n",
      "dropout_6 (Dropout)          (None, 512)               0         \n",
      "_________________________________________________________________\n",
      "dense_27 (Dense)             (None, 512)               262656    \n",
      "_________________________________________________________________\n",
      "dropout_7 (Dropout)          (None, 512)               0         \n",
      "_________________________________________________________________\n",
      "dense_28 (Dense)             (None, 1)                 513       \n",
      "=================================================================\n",
      "Total params: 803,329\n",
      "Trainable params: 803,329\n",
      "Non-trainable params: 0\n",
      "_________________________________________________________________\n",
      "WARNING:tensorflow:Callbacks method `on_train_batch_end` is slow compared to the batch time (batch time: 0.0217s vs `on_train_batch_end` time: 0.0776s). Check your callbacks.\n",
      "\n",
      "Epoch: 0, accuracy:0.5030,  binary_crossentropy:0.8213,  loss:0.9797,  val_accuracy:0.5600,  val_binary_crossentropy:0.6899,  val_loss:0.8476,  \n",
      "....................................................................................................\n",
      "Epoch: 100, accuracy:0.6442,  binary_crossentropy:0.6091,  loss:0.6402,  val_accuracy:0.6290,  val_binary_crossentropy:0.5917,  val_loss:0.6226,  \n",
      "....................................................................................................\n",
      "Epoch: 200, accuracy:0.6618,  binary_crossentropy:0.5903,  loss:0.6162,  val_accuracy:0.6740,  val_binary_crossentropy:0.5719,  val_loss:0.5978,  \n",
      "....................................................................................................\n",
      "Epoch: 300, accuracy:0.6742,  binary_crossentropy:0.5796,  loss:0.6077,  val_accuracy:0.7010,  val_binary_crossentropy:0.5642,  val_loss:0.5923,  \n",
      "....................................................................................................\n",
      "Epoch: 400, accuracy:0.6763,  binary_crossentropy:0.5754,  loss:0.6050,  val_accuracy:0.6650,  val_binary_crossentropy:0.5649,  val_loss:0.5946,  \n",
      "....................................................................................................\n",
      "Epoch: 500, accuracy:0.6818,  binary_crossentropy:0.5714,  loss:0.6035,  val_accuracy:0.6990,  val_binary_crossentropy:0.5492,  val_loss:0.5813,  \n",
      "....................................................................................................\n",
      "Epoch: 600, accuracy:0.6821,  binary_crossentropy:0.5682,  loss:0.6016,  val_accuracy:0.6950,  val_binary_crossentropy:0.5431,  val_loss:0.5764,  \n",
      "....................................................................................................\n",
      "Epoch: 700, accuracy:0.6881,  binary_crossentropy:0.5635,  loss:0.5980,  val_accuracy:0.6940,  val_binary_crossentropy:0.5411,  val_loss:0.5756,  \n",
      "....................................................................................................\n",
      "Epoch: 800, accuracy:0.6904,  binary_crossentropy:0.5603,  loss:0.5963,  val_accuracy:0.6820,  val_binary_crossentropy:0.5448,  val_loss:0.5807,  \n",
      "....................................................................................................\n",
      "Epoch: 900, accuracy:0.6911,  binary_crossentropy:0.5596,  loss:0.5969,  val_accuracy:0.7020,  val_binary_crossentropy:0.5441,  val_loss:0.5814,  \n",
      "....................................................................................................\n",
      "Epoch: 1000, accuracy:0.6977,  binary_crossentropy:0.5505,  loss:0.5892,  val_accuracy:0.7020,  val_binary_crossentropy:0.5433,  val_loss:0.5821,  \n",
      "....................................................................................................\n",
      "Epoch: 1100, accuracy:0.6999,  binary_crossentropy:0.5488,  loss:0.5887,  val_accuracy:0.6870,  val_binary_crossentropy:0.5495,  val_loss:0.5894,  \n",
      "........................"
     ]
    }
   ],
   "source": [
    "combined_model = tf.keras.Sequential([\n",
    "    layers.Dense(512, kernel_regularizer=regularizers.l2(0.0001),\n",
    "                 activation='elu', input_shape=(FEATURES,)),\n",
    "    layers.Dropout(0.5),\n",
    "    layers.Dense(512, kernel_regularizer=regularizers.l2(0.0001),\n",
    "                 activation='elu'),\n",
    "    layers.Dropout(0.5),\n",
    "    layers.Dense(512, kernel_regularizer=regularizers.l2(0.0001),\n",
    "                 activation='elu'),\n",
    "    layers.Dropout(0.5),\n",
    "    layers.Dense(512, kernel_regularizer=regularizers.l2(0.0001),\n",
    "                 activation='elu'),\n",
    "    layers.Dropout(0.5),\n",
    "    layers.Dense(1)\n",
    "])\n",
    "\n",
    "regularizer_histories['combined'] = compile_and_fit(combined_model, \"regularizers/combined\")"
   ]
  },
  {
   "cell_type": "code",
   "execution_count": 42,
   "metadata": {
    "id": "qDqBBxfI0Yd8"
   },
   "outputs": [
    {
     "data": {
      "text/plain": [
       "(0.5, 0.7)"
      ]
     },
     "execution_count": 42,
     "metadata": {},
     "output_type": "execute_result"
    },
    {
     "data": {
      "image/png": "[encoded data removed]",
      "text/plain": [
       "<Figure size 432x288 with 1 Axes>"
      ]
     },
     "metadata": {
      "needs_background": "light"
     },
     "output_type": "display_data"
    }
   ],
   "source": [
    "plotter.plot(regularizer_histories)\n",
    "plt.ylim([0.5, 0.7])"
   ]
  },
  {
   "cell_type": "markdown",
   "metadata": {
    "id": "tE0OoNCQNTJv"
   },
   "source": [
    "This model with the `\"Combined\"` regularization is obviously the best one so far."
   ]
  },
  {
   "cell_type": "markdown",
   "metadata": {
    "id": "-dw23T03FEO1"
   },
   "source": [
    "### View in TensorBoard\n",
    "\n",
    "These models also recorded TensorBoard logs.\n",
    "\n",
    "To open an embedded  tensorboard viewer inside a notebook, copy the following into a code-cell:\n",
    "\n",
    "```\n",
    "%tensorboard --logdir {logdir}/regularizers\n",
    "```"
   ]
  },
  {
   "cell_type": "markdown",
   "metadata": {
    "id": "KX3Voac-FEO4"
   },
   "source": [
    "You can view the [results of a previous run](https://tensorboard.dev/experiment/fGInKDo8TXes1z7HQku9mw/#scalars&_smoothingWeight=0.97) of this notebook on [TensorDoard.dev](https://tensorboard.dev/).\n",
    "\n",
    "It's also included in an `<iframe>` for convenience:"
   ]
  },
  {
   "cell_type": "code",
   "execution_count": 43,
   "metadata": {
    "id": "doMtyYoqFEO5"
   },
   "outputs": [
    {
     "data": {
      "text/html": [
       "\n",
       "        <iframe\n",
       "            width=\"100%\"\n",
       "            height=\"800px\"\n",
       "            src=\"https://tensorboard.dev/experiment/fGInKDo8TXes1z7HQku9mw/#scalars&_smoothingWeight=0.97\"\n",
       "            frameborder=\"0\"\n",
       "            allowfullscreen\n",
       "        ></iframe>\n",
       "        "
      ],
      "text/plain": [
       "<IPython.lib.display.IFrame at 0x7fe1cc07d4e0>"
      ]
     },
     "execution_count": 43,
     "metadata": {},
     "output_type": "execute_result"
    }
   ],
   "source": [
    "display.IFrame(\n",
    "    src=\"https://tensorboard.dev/experiment/fGInKDo8TXes1z7HQku9mw/#scalars&_smoothingWeight=0.97\",\n",
    "    width = \"100%\",\n",
    "    height=\"800px\")\n"
   ]
  },
  {
   "cell_type": "markdown",
   "metadata": {
    "id": "mds5RXGjIcSu"
   },
   "source": [
    "This was uploaded with:\n",
    "\n",
    "```\n",
    "!tensorboard dev upload --logdir  {logdir}/regularizers\n",
    "```"
   ]
  },
  {
   "cell_type": "markdown",
   "metadata": {
    "id": "uXJxtwBWIhjG"
   },
   "source": [
    "## Conclusions"
   ]
  },
  {
   "cell_type": "markdown",
   "metadata": {
    "id": "gjfnkEeQyAFG"
   },
   "source": [
    "To recap: here are the most common ways to prevent overfitting in neural networks:\n",
    "\n",
    "* Get more training data.\n",
    "* Reduce the capacity of the network.\n",
    "* Add weight regularization.\n",
    "* Add dropout.\n",
    "\n",
    "Two important approaches not covered in this guide are:\n",
    "\n",
    "* data-augmentation\n",
    "* batch normalization\n",
    "\n",
    "Remember that each method can help on its own, but often combining them can be even more effective."
   ]
  }
 ],
 "metadata": {
  "accelerator": "GPU",
  "colab": {
   "collapsed_sections": [],
   "name": "overfit_and_underfit.ipynb",
   "toc_visible": true
  },
  "kernelspec": {
   "display_name": "Python 3",
   "language": "python",
   "name": "python3"
  },
  "language_info": {
   "codemirror_mode": {
    "name": "ipython",
    "version": 3
   },
   "file_extension": ".py",
   "mimetype": "text/x-python",
   "name": "python",
   "nbconvert_exporter": "python",
   "pygments_lexer": "ipython3",
   "version": "3.6.12"
  }
 },
 "nbformat": 4,
 "nbformat_minor": 1
}
