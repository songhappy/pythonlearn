{
 "cells": [
  {
   "cell_type": "code",
   "execution_count": 7,
   "id": "promising-afternoon",
   "metadata": {},
   "outputs": [],
   "source": [
    "import pandas as pd\n",
    "import matplotlib.pyplot as plt\n",
    "import datetime\n",
    "\n",
    "input_path = \"../../data/movielens/ml-1m/ratings.dat\""
   ]
  },
  {
   "cell_type": "code",
   "execution_count": 69,
   "id": "surprised-pastor",
   "metadata": {},
   "outputs": [
    {
     "name": "stdout",
     "output_type": "stream",
     "text": [
      "total records: 1000208\n"
     ]
    }
   ],
   "source": [
    "ratings = []\n",
    "with open(input_path) as infile:\n",
    "    for cnt, line in enumerate(infile):\n",
    "        x = line.strip().split(\"::\")\n",
    "        y = list(map(lambda item: int(item), x))\n",
    "        #y[3] = datetime.datetime.fromtimestamp(y[3])\n",
    "        ratings.append(y)\n",
    "    print(\"total records:\", cnt)\n",
    "\n",
    "df = pd.DataFrame(ratings, columns=['uid', 'mid', 'rate', 'timestamp'])"
   ]
  },
  {
   "cell_type": "code",
   "execution_count": 5,
   "id": "mechanical-numbers",
   "metadata": {},
   "outputs": [],
   "source": [
    "from pyspark.sql import SparkSession\n",
    "spark = SparkSession.builder.appName(\"tt\").getOrCreate()\n",
    "sc= spark.sparkContext"
   ]
  },
  {
   "cell_type": "code",
   "execution_count": 8,
   "id": "suffering-trading",
   "metadata": {},
   "outputs": [
    {
     "data": {
      "text/plain": [
       "['1::1193::5::978300760',\n",
       " '1::661::3::978302109',\n",
       " '1::914::3::978301968',\n",
       " '1::3408::4::978300275',\n",
       " '1::2355::5::978824291',\n",
       " '1::1197::3::978302268',\n",
       " '1::1287::5::978302039',\n",
       " '1::2804::5::978300719',\n",
       " '1::594::4::978302268',\n",
       " '1::919::4::978301368']"
      ]
     },
     "execution_count": 8,
     "metadata": {},
     "output_type": "execute_result"
    }
   ],
   "source": [
    "rdd = sc.textFile(input_path)\n",
    "rdd.take(10)"
   ]
  },
  {
   "cell_type": "code",
   "execution_count": 27,
   "id": "broken-encounter",
   "metadata": {},
   "outputs": [],
   "source": [
    "dfs = sc.textFile(input_path).map(lambda x: x.strip().split(\"::\"))\\\n",
    ".map(lambda x: (int(x[0]), int(x[1]), int(x[2]), int(x[3])))\\\n",
    ".toDF([\"uid\", \"mid\",\"rate\", \"ts\"])"
   ]
  },
  {
   "cell_type": "code",
   "execution_count": 29,
   "id": "rational-grace",
   "metadata": {},
   "outputs": [
    {
     "name": "stdout",
     "output_type": "stream",
     "text": [
      "+---+----+----+---------+\n",
      "|uid| mid|rate|       ts|\n",
      "+---+----+----+---------+\n",
      "|  1|1193|   5|978300760|\n",
      "|  1| 661|   3|978302109|\n",
      "|  1| 914|   3|978301968|\n",
      "|  1|3408|   4|978300275|\n",
      "|  1|2355|   5|978824291|\n",
      "|  1|1197|   3|978302268|\n",
      "|  1|1287|   5|978302039|\n",
      "|  1|2804|   5|978300719|\n",
      "|  1| 594|   4|978302268|\n",
      "|  1| 919|   4|978301368|\n",
      "|  1| 595|   5|978824268|\n",
      "|  1| 938|   4|978301752|\n",
      "|  1|2398|   4|978302281|\n",
      "|  1|2918|   4|978302124|\n",
      "|  1|1035|   5|978301753|\n",
      "|  1|2791|   4|978302188|\n",
      "|  1|2687|   3|978824268|\n",
      "|  1|2018|   4|978301777|\n",
      "|  1|3105|   5|978301713|\n",
      "|  1|2797|   4|978302039|\n",
      "+---+----+----+---------+\n",
      "only showing top 20 rows\n",
      "\n",
      "root\n",
      " |-- uid: long (nullable = true)\n",
      " |-- mid: long (nullable = true)\n",
      " |-- rate: long (nullable = true)\n",
      " |-- ts: long (nullable = true)\n",
      "\n"
     ]
    }
   ],
   "source": [
    "dfs.show()\n",
    "dfs.printSchema()"
   ]
  },
  {
   "cell_type": "code",
   "execution_count": 58,
   "id": "irish-handy",
   "metadata": {},
   "outputs": [
    {
     "name": "stdout",
     "output_type": "stream",
     "text": [
      "<class 'pandas.core.frame.DataFrame'>\n",
      "Int64Index: 1000209 entries, 1000138 to 825603\n",
      "Data columns (total 4 columns):\n",
      " #   Column     Non-Null Count    Dtype\n",
      "---  ------     --------------    -----\n",
      " 0   uid        1000209 non-null  int64\n",
      " 1   mid        1000209 non-null  int64\n",
      " 2   rate       1000209 non-null  int64\n",
      " 3   timestamp  1000209 non-null  int64\n",
      "dtypes: int64(4)\n",
      "memory usage: 38.2 MB\n"
     ]
    },
    {
     "data": {
      "text/html": [
       "<div>\n",
       "<style scoped>\n",
       "    .dataframe tbody tr th:only-of-type {\n",
       "        vertical-align: middle;\n",
       "    }\n",
       "\n",
       "    .dataframe tbody tr th {\n",
       "        vertical-align: top;\n",
       "    }\n",
       "\n",
       "    .dataframe thead th {\n",
       "        text-align: right;\n",
       "    }\n",
       "</style>\n",
       "<table border=\"1\" class=\"dataframe\">\n",
       "  <thead>\n",
       "    <tr style=\"text-align: right;\">\n",
       "      <th></th>\n",
       "      <th>uid</th>\n",
       "      <th>mid</th>\n",
       "      <th>rate</th>\n",
       "      <th>timestamp</th>\n",
       "    </tr>\n",
       "  </thead>\n",
       "  <tbody>\n",
       "    <tr>\n",
       "      <th>898710</th>\n",
       "      <td>5433</td>\n",
       "      <td>3576</td>\n",
       "      <td>1</td>\n",
       "      <td>960048407</td>\n",
       "    </tr>\n",
       "    <tr>\n",
       "      <th>62332</th>\n",
       "      <td>423</td>\n",
       "      <td>2395</td>\n",
       "      <td>1</td>\n",
       "      <td>976282038</td>\n",
       "    </tr>\n",
       "    <tr>\n",
       "      <th>566195</th>\n",
       "      <td>3476</td>\n",
       "      <td>3826</td>\n",
       "      <td>1</td>\n",
       "      <td>968955946</td>\n",
       "    </tr>\n",
       "    <tr>\n",
       "      <th>566080</th>\n",
       "      <td>3476</td>\n",
       "      <td>3273</td>\n",
       "      <td>1</td>\n",
       "      <td>968955889</td>\n",
       "    </tr>\n",
       "    <tr>\n",
       "      <th>580054</th>\n",
       "      <td>3540</td>\n",
       "      <td>2720</td>\n",
       "      <td>1</td>\n",
       "      <td>968955791</td>\n",
       "    </tr>\n",
       "  </tbody>\n",
       "</table>\n",
       "</div>"
      ],
      "text/plain": [
       "         uid   mid  rate  timestamp\n",
       "898710  5433  3576     1  960048407\n",
       "62332    423  2395     1  976282038\n",
       "566195  3476  3826     1  968955946\n",
       "566080  3476  3273     1  968955889\n",
       "580054  3540  2720     1  968955791"
      ]
     },
     "execution_count": 58,
     "metadata": {},
     "output_type": "execute_result"
    }
   ],
   "source": [
    "df.head() \n",
    "df.info()\n",
    "df.count()\n",
    "df = df.sort_values(\"rate\")\n",
    "df.head()"
   ]
  },
  {
   "cell_type": "code",
   "execution_count": 56,
   "id": "reported-douglas",
   "metadata": {},
   "outputs": [
    {
     "data": {
      "text/html": [
       "<div>\n",
       "<style scoped>\n",
       "    .dataframe tbody tr th:only-of-type {\n",
       "        vertical-align: middle;\n",
       "    }\n",
       "\n",
       "    .dataframe tbody tr th {\n",
       "        vertical-align: top;\n",
       "    }\n",
       "\n",
       "    .dataframe thead th {\n",
       "        text-align: right;\n",
       "    }\n",
       "</style>\n",
       "<table border=\"1\" class=\"dataframe\">\n",
       "  <thead>\n",
       "    <tr style=\"text-align: right;\">\n",
       "      <th></th>\n",
       "      <th>mid</th>\n",
       "    </tr>\n",
       "  </thead>\n",
       "  <tbody>\n",
       "    <tr>\n",
       "      <th>133</th>\n",
       "      <td>1</td>\n",
       "    </tr>\n",
       "    <tr>\n",
       "      <th>814</th>\n",
       "      <td>1</td>\n",
       "    </tr>\n",
       "    <tr>\n",
       "      <th>584</th>\n",
       "      <td>1</td>\n",
       "    </tr>\n",
       "    <tr>\n",
       "      <th>658</th>\n",
       "      <td>1</td>\n",
       "    </tr>\n",
       "    <tr>\n",
       "      <th>641</th>\n",
       "      <td>1</td>\n",
       "    </tr>\n",
       "    <tr>\n",
       "      <th>...</th>\n",
       "      <td>...</td>\n",
       "    </tr>\n",
       "    <tr>\n",
       "      <th>480</th>\n",
       "      <td>2672</td>\n",
       "    </tr>\n",
       "    <tr>\n",
       "      <th>1210</th>\n",
       "      <td>2883</td>\n",
       "    </tr>\n",
       "    <tr>\n",
       "      <th>1196</th>\n",
       "      <td>2990</td>\n",
       "    </tr>\n",
       "    <tr>\n",
       "      <th>260</th>\n",
       "      <td>2991</td>\n",
       "    </tr>\n",
       "    <tr>\n",
       "      <th>2858</th>\n",
       "      <td>3428</td>\n",
       "    </tr>\n",
       "  </tbody>\n",
       "</table>\n",
       "<p>3706 rows × 1 columns</p>\n",
       "</div>"
      ],
      "text/plain": [
       "       mid\n",
       "133      1\n",
       "814      1\n",
       "584      1\n",
       "658      1\n",
       "641      1\n",
       "...    ...\n",
       "480   2672\n",
       "1210  2883\n",
       "1196  2990\n",
       "260   2991\n",
       "2858  3428\n",
       "\n",
       "[3706 rows x 1 columns]"
      ]
     },
     "execution_count": 56,
     "metadata": {},
     "output_type": "execute_result"
    }
   ],
   "source": [
    "df[['uid']].apply(pd.Series.value_counts).sort_values('uid') \n",
    "df[['mid']].apply(pd.Series.value_counts).sort_values('mid')"
   ]
  },
  {
   "cell_type": "code",
   "execution_count": 5,
   "id": "second-prediction",
   "metadata": {},
   "outputs": [
    {
     "data": {
      "text/plain": [
       "<AxesSubplot:xlabel='rate'>"
      ]
     },
     "execution_count": 5,
     "metadata": {},
     "output_type": "execute_result"
    },
    {
     "data": {
      "image/png": "[encoded data removed]",
      "text/plain": [
       "<Figure size 432x288 with 1 Axes>"
      ]
     },
     "metadata": {
      "needs_background": "light"
     },
     "output_type": "display_data"
    }
   ],
   "source": [
    "df.groupby('rate').count().plot()"
   ]
  },
  {
   "cell_type": "code",
   "execution_count": 14,
   "id": "first-springer",
   "metadata": {},
   "outputs": [
    {
     "data": {
      "text/html": [
       "<div>\n",
       "<style scoped>\n",
       "    .dataframe tbody tr th:only-of-type {\n",
       "        vertical-align: middle;\n",
       "    }\n",
       "\n",
       "    .dataframe tbody tr th {\n",
       "        vertical-align: top;\n",
       "    }\n",
       "\n",
       "    .dataframe thead th {\n",
       "        text-align: right;\n",
       "    }\n",
       "</style>\n",
       "<table border=\"1\" class=\"dataframe\">\n",
       "  <thead>\n",
       "    <tr style=\"text-align: right;\">\n",
       "      <th></th>\n",
       "      <th>uid</th>\n",
       "      <th>mid</th>\n",
       "      <th>rate</th>\n",
       "      <th>timestamp</th>\n",
       "      <th>count</th>\n",
       "    </tr>\n",
       "  </thead>\n",
       "  <tbody>\n",
       "    <tr>\n",
       "      <th>0</th>\n",
       "      <td>1</td>\n",
       "      <td>1193</td>\n",
       "      <td>5</td>\n",
       "      <td>978300760</td>\n",
       "      <td>NaN</td>\n",
       "    </tr>\n",
       "    <tr>\n",
       "      <th>1</th>\n",
       "      <td>1</td>\n",
       "      <td>661</td>\n",
       "      <td>3</td>\n",
       "      <td>978302109</td>\n",
       "      <td>53.0</td>\n",
       "    </tr>\n",
       "    <tr>\n",
       "      <th>2</th>\n",
       "      <td>1</td>\n",
       "      <td>914</td>\n",
       "      <td>3</td>\n",
       "      <td>978301968</td>\n",
       "      <td>129.0</td>\n",
       "    </tr>\n",
       "    <tr>\n",
       "      <th>3</th>\n",
       "      <td>1</td>\n",
       "      <td>3408</td>\n",
       "      <td>4</td>\n",
       "      <td>978300275</td>\n",
       "      <td>51.0</td>\n",
       "    </tr>\n",
       "    <tr>\n",
       "      <th>4</th>\n",
       "      <td>1</td>\n",
       "      <td>2355</td>\n",
       "      <td>5</td>\n",
       "      <td>978824291</td>\n",
       "      <td>21.0</td>\n",
       "    </tr>\n",
       "  </tbody>\n",
       "</table>\n",
       "</div>"
      ],
      "text/plain": [
       "   uid   mid  rate  timestamp  count\n",
       "0    1  1193     5  978300760    NaN\n",
       "1    1   661     3  978302109   53.0\n",
       "2    1   914     3  978301968  129.0\n",
       "3    1  3408     4  978300275   51.0\n",
       "4    1  2355     5  978824291   21.0"
      ]
     },
     "execution_count": 14,
     "metadata": {},
     "output_type": "execute_result"
    }
   ],
   "source": [
    "df=df.fillna(value=0)\n",
    "df[\"count\"]=df[[\"uid\", \"mid\"]].groupby('uid').count()\n",
    "df.head()"
   ]
  },
  {
   "cell_type": "code",
   "execution_count": 15,
   "id": "dominican-snake",
   "metadata": {},
   "outputs": [
    {
     "data": {
      "text/html": [
       "<div>\n",
       "<style scoped>\n",
       "    .dataframe tbody tr th:only-of-type {\n",
       "        vertical-align: middle;\n",
       "    }\n",
       "\n",
       "    .dataframe tbody tr th {\n",
       "        vertical-align: top;\n",
       "    }\n",
       "\n",
       "    .dataframe thead th {\n",
       "        text-align: right;\n",
       "    }\n",
       "</style>\n",
       "<table border=\"1\" class=\"dataframe\">\n",
       "  <thead>\n",
       "    <tr style=\"text-align: right;\">\n",
       "      <th></th>\n",
       "      <th>rate</th>\n",
       "    </tr>\n",
       "    <tr>\n",
       "      <th>mid</th>\n",
       "      <th></th>\n",
       "    </tr>\n",
       "  </thead>\n",
       "  <tbody>\n",
       "    <tr>\n",
       "      <th>1</th>\n",
       "      <td>4.146846</td>\n",
       "    </tr>\n",
       "    <tr>\n",
       "      <th>2</th>\n",
       "      <td>3.201141</td>\n",
       "    </tr>\n",
       "    <tr>\n",
       "      <th>3</th>\n",
       "      <td>3.016736</td>\n",
       "    </tr>\n",
       "    <tr>\n",
       "      <th>4</th>\n",
       "      <td>2.729412</td>\n",
       "    </tr>\n",
       "    <tr>\n",
       "      <th>5</th>\n",
       "      <td>3.006757</td>\n",
       "    </tr>\n",
       "    <tr>\n",
       "      <th>...</th>\n",
       "      <td>...</td>\n",
       "    </tr>\n",
       "    <tr>\n",
       "      <th>3948</th>\n",
       "      <td>3.635731</td>\n",
       "    </tr>\n",
       "    <tr>\n",
       "      <th>3949</th>\n",
       "      <td>4.115132</td>\n",
       "    </tr>\n",
       "    <tr>\n",
       "      <th>3950</th>\n",
       "      <td>3.666667</td>\n",
       "    </tr>\n",
       "    <tr>\n",
       "      <th>3951</th>\n",
       "      <td>3.900000</td>\n",
       "    </tr>\n",
       "    <tr>\n",
       "      <th>3952</th>\n",
       "      <td>3.780928</td>\n",
       "    </tr>\n",
       "  </tbody>\n",
       "</table>\n",
       "<p>3706 rows × 1 columns</p>\n",
       "</div>"
      ],
      "text/plain": [
       "          rate\n",
       "mid           \n",
       "1     4.146846\n",
       "2     3.201141\n",
       "3     3.016736\n",
       "4     2.729412\n",
       "5     3.006757\n",
       "...        ...\n",
       "3948  3.635731\n",
       "3949  4.115132\n",
       "3950  3.666667\n",
       "3951  3.900000\n",
       "3952  3.780928\n",
       "\n",
       "[3706 rows x 1 columns]"
      ]
     },
     "execution_count": 15,
     "metadata": {},
     "output_type": "execute_result"
    }
   ],
   "source": [
    "import numpy as np\n",
    "df[['mid', 'rate']].groupby('mid').agg(np.mean)"
   ]
  },
  {
   "cell_type": "code",
   "execution_count": 16,
   "id": "tribal-victorian",
   "metadata": {},
   "outputs": [
    {
     "data": {
      "text/html": [
       "<div>\n",
       "<style scoped>\n",
       "    .dataframe tbody tr th:only-of-type {\n",
       "        vertical-align: middle;\n",
       "    }\n",
       "\n",
       "    .dataframe tbody tr th {\n",
       "        vertical-align: top;\n",
       "    }\n",
       "\n",
       "    .dataframe thead th {\n",
       "        text-align: right;\n",
       "    }\n",
       "</style>\n",
       "<table border=\"1\" class=\"dataframe\">\n",
       "  <thead>\n",
       "    <tr style=\"text-align: right;\">\n",
       "      <th></th>\n",
       "      <th>rate</th>\n",
       "    </tr>\n",
       "    <tr>\n",
       "      <th>uid</th>\n",
       "      <th></th>\n",
       "    </tr>\n",
       "  </thead>\n",
       "  <tbody>\n",
       "    <tr>\n",
       "      <th>1</th>\n",
       "      <td>4.188679</td>\n",
       "    </tr>\n",
       "    <tr>\n",
       "      <th>2</th>\n",
       "      <td>3.713178</td>\n",
       "    </tr>\n",
       "    <tr>\n",
       "      <th>3</th>\n",
       "      <td>3.901961</td>\n",
       "    </tr>\n",
       "    <tr>\n",
       "      <th>4</th>\n",
       "      <td>4.190476</td>\n",
       "    </tr>\n",
       "    <tr>\n",
       "      <th>5</th>\n",
       "      <td>3.146465</td>\n",
       "    </tr>\n",
       "    <tr>\n",
       "      <th>...</th>\n",
       "      <td>...</td>\n",
       "    </tr>\n",
       "    <tr>\n",
       "      <th>6036</th>\n",
       "      <td>3.302928</td>\n",
       "    </tr>\n",
       "    <tr>\n",
       "      <th>6037</th>\n",
       "      <td>3.717822</td>\n",
       "    </tr>\n",
       "    <tr>\n",
       "      <th>6038</th>\n",
       "      <td>3.800000</td>\n",
       "    </tr>\n",
       "    <tr>\n",
       "      <th>6039</th>\n",
       "      <td>3.878049</td>\n",
       "    </tr>\n",
       "    <tr>\n",
       "      <th>6040</th>\n",
       "      <td>3.577713</td>\n",
       "    </tr>\n",
       "  </tbody>\n",
       "</table>\n",
       "<p>6040 rows × 1 columns</p>\n",
       "</div>"
      ],
      "text/plain": [
       "          rate\n",
       "uid           \n",
       "1     4.188679\n",
       "2     3.713178\n",
       "3     3.901961\n",
       "4     4.190476\n",
       "5     3.146465\n",
       "...        ...\n",
       "6036  3.302928\n",
       "6037  3.717822\n",
       "6038  3.800000\n",
       "6039  3.878049\n",
       "6040  3.577713\n",
       "\n",
       "[6040 rows x 1 columns]"
      ]
     },
     "execution_count": 16,
     "metadata": {},
     "output_type": "execute_result"
    }
   ],
   "source": [
    "df[['uid', 'rate']].groupby('uid').agg(np.mean)"
   ]
  },
  {
   "cell_type": "code",
   "execution_count": 17,
   "id": "negative-victim",
   "metadata": {},
   "outputs": [
    {
     "data": {
      "text/plain": [
       "count    1.000209e+06\n",
       "mean     3.581564e+00\n",
       "std      1.117102e+00\n",
       "min      1.000000e+00\n",
       "25%      3.000000e+00\n",
       "50%      4.000000e+00\n",
       "75%      4.000000e+00\n",
       "max      5.000000e+00\n",
       "Name: rate, dtype: float64"
      ]
     },
     "execution_count": 17,
     "metadata": {},
     "output_type": "execute_result"
    }
   ],
   "source": [
    "rate=df['rate']\n",
    "rate.describe()"
   ]
  },
  {
   "cell_type": "code",
   "execution_count": 18,
   "id": "electoral-marks",
   "metadata": {},
   "outputs": [
    {
     "data": {
      "text/plain": [
       "uid                  1.0\n",
       "mid                661.0\n",
       "rate                 3.0\n",
       "timestamp    978302109.0\n",
       "count               53.0\n",
       "Name: 1, dtype: float64"
      ]
     },
     "execution_count": 18,
     "metadata": {},
     "output_type": "execute_result"
    }
   ],
   "source": [
    "df.loc[1]"
   ]
  },
  {
   "cell_type": "code",
   "execution_count": 19,
   "id": "cathedral-express",
   "metadata": {},
   "outputs": [
    {
     "data": {
      "text/plain": [
       "0    1\n",
       "1    1\n",
       "2    1\n",
       "3    1\n",
       "4    1\n",
       "5    1\n",
       "6    1\n",
       "7    1\n",
       "8    1\n",
       "9    1\n",
       "Name: uid, dtype: int64"
      ]
     },
     "execution_count": 19,
     "metadata": {},
     "output_type": "execute_result"
    }
   ],
   "source": [
    "df['uid'][0:10]"
   ]
  },
  {
   "cell_type": "code",
   "execution_count": 20,
   "id": "swedish-daniel",
   "metadata": {},
   "outputs": [
    {
     "name": "stdout",
     "output_type": "stream",
     "text": [
      "CPU times: user 3.82 ms, sys: 2.54 ms, total: 6.36 ms\n",
      "Wall time: 10.5 ms\n"
     ]
    },
    {
     "data": {
      "text/html": [
       "<div>\n",
       "<style scoped>\n",
       "    .dataframe tbody tr th:only-of-type {\n",
       "        vertical-align: middle;\n",
       "    }\n",
       "\n",
       "    .dataframe tbody tr th {\n",
       "        vertical-align: top;\n",
       "    }\n",
       "\n",
       "    .dataframe thead th {\n",
       "        text-align: right;\n",
       "    }\n",
       "</style>\n",
       "<table border=\"1\" class=\"dataframe\">\n",
       "  <thead>\n",
       "    <tr style=\"text-align: right;\">\n",
       "      <th></th>\n",
       "      <th>uid</th>\n",
       "      <th>mid</th>\n",
       "      <th>rate</th>\n",
       "      <th>timestamp</th>\n",
       "      <th>count</th>\n",
       "    </tr>\n",
       "  </thead>\n",
       "  <tbody>\n",
       "    <tr>\n",
       "      <th>0</th>\n",
       "      <td>1</td>\n",
       "      <td>1193</td>\n",
       "      <td>5</td>\n",
       "      <td>978300760</td>\n",
       "      <td>NaN</td>\n",
       "    </tr>\n",
       "    <tr>\n",
       "      <th>1</th>\n",
       "      <td>1</td>\n",
       "      <td>661</td>\n",
       "      <td>3</td>\n",
       "      <td>978302109</td>\n",
       "      <td>53.0</td>\n",
       "    </tr>\n",
       "    <tr>\n",
       "      <th>2</th>\n",
       "      <td>1</td>\n",
       "      <td>914</td>\n",
       "      <td>3</td>\n",
       "      <td>978301968</td>\n",
       "      <td>129.0</td>\n",
       "    </tr>\n",
       "    <tr>\n",
       "      <th>3</th>\n",
       "      <td>1</td>\n",
       "      <td>3408</td>\n",
       "      <td>4</td>\n",
       "      <td>978300275</td>\n",
       "      <td>51.0</td>\n",
       "    </tr>\n",
       "    <tr>\n",
       "      <th>4</th>\n",
       "      <td>1</td>\n",
       "      <td>2355</td>\n",
       "      <td>5</td>\n",
       "      <td>978824291</td>\n",
       "      <td>21.0</td>\n",
       "    </tr>\n",
       "  </tbody>\n",
       "</table>\n",
       "</div>"
      ],
      "text/plain": [
       "   uid   mid  rate  timestamp  count\n",
       "0    1  1193     5  978300760    NaN\n",
       "1    1   661     3  978302109   53.0\n",
       "2    1   914     3  978301968  129.0\n",
       "3    1  3408     4  978300275   51.0\n",
       "4    1  2355     5  978824291   21.0"
      ]
     },
     "execution_count": 20,
     "metadata": {},
     "output_type": "execute_result"
    }
   ],
   "source": [
    "%%time\n",
    "df1user = df[df['uid']==1]\n",
    "df1user.head()"
   ]
  },
  {
   "cell_type": "code",
   "execution_count": 71,
   "id": "loose-calgary",
   "metadata": {},
   "outputs": [
    {
     "data": {
      "text/html": [
       "<div>\n",
       "<style scoped>\n",
       "    .dataframe tbody tr th:only-of-type {\n",
       "        vertical-align: middle;\n",
       "    }\n",
       "\n",
       "    .dataframe tbody tr th {\n",
       "        vertical-align: top;\n",
       "    }\n",
       "\n",
       "    .dataframe thead th {\n",
       "        text-align: right;\n",
       "    }\n",
       "</style>\n",
       "<table border=\"1\" class=\"dataframe\">\n",
       "  <thead>\n",
       "    <tr style=\"text-align: right;\">\n",
       "      <th></th>\n",
       "      <th>uid</th>\n",
       "      <th>mid</th>\n",
       "      <th>rate</th>\n",
       "      <th>timestamp</th>\n",
       "      <th>date</th>\n",
       "    </tr>\n",
       "  </thead>\n",
       "  <tbody>\n",
       "    <tr>\n",
       "      <th>0</th>\n",
       "      <td>1</td>\n",
       "      <td>1193</td>\n",
       "      <td>5</td>\n",
       "      <td>978300760</td>\n",
       "      <td>2000-12-31</td>\n",
       "    </tr>\n",
       "    <tr>\n",
       "      <th>1</th>\n",
       "      <td>1</td>\n",
       "      <td>661</td>\n",
       "      <td>3</td>\n",
       "      <td>978302109</td>\n",
       "      <td>2000-12-31</td>\n",
       "    </tr>\n",
       "    <tr>\n",
       "      <th>2</th>\n",
       "      <td>1</td>\n",
       "      <td>914</td>\n",
       "      <td>3</td>\n",
       "      <td>978301968</td>\n",
       "      <td>2000-12-31</td>\n",
       "    </tr>\n",
       "    <tr>\n",
       "      <th>3</th>\n",
       "      <td>1</td>\n",
       "      <td>3408</td>\n",
       "      <td>4</td>\n",
       "      <td>978300275</td>\n",
       "      <td>2000-12-31</td>\n",
       "    </tr>\n",
       "    <tr>\n",
       "      <th>4</th>\n",
       "      <td>1</td>\n",
       "      <td>2355</td>\n",
       "      <td>5</td>\n",
       "      <td>978824291</td>\n",
       "      <td>2001-01-06</td>\n",
       "    </tr>\n",
       "  </tbody>\n",
       "</table>\n",
       "</div>"
      ],
      "text/plain": [
       "   uid   mid  rate  timestamp        date\n",
       "0    1  1193     5  978300760  2000-12-31\n",
       "1    1   661     3  978302109  2000-12-31\n",
       "2    1   914     3  978301968  2000-12-31\n",
       "3    1  3408     4  978300275  2000-12-31\n",
       "4    1  2355     5  978824291  2001-01-06"
      ]
     },
     "execution_count": 71,
     "metadata": {},
     "output_type": "execute_result"
    }
   ],
   "source": [
    "df['date']=pd.to_datetime(df['timestamp'], unit = 's').dt.date\n",
    "df.head()"
   ]
  },
  {
   "cell_type": "code",
   "execution_count": 39,
   "id": "governing-phenomenon",
   "metadata": {},
   "outputs": [
    {
     "data": {
      "text/html": [
       "<div>\n",
       "<style scoped>\n",
       "    .dataframe tbody tr th:only-of-type {\n",
       "        vertical-align: middle;\n",
       "    }\n",
       "\n",
       "    .dataframe tbody tr th {\n",
       "        vertical-align: top;\n",
       "    }\n",
       "\n",
       "    .dataframe thead th {\n",
       "        text-align: right;\n",
       "    }\n",
       "</style>\n",
       "<table border=\"1\" class=\"dataframe\">\n",
       "  <thead>\n",
       "    <tr style=\"text-align: right;\">\n",
       "      <th></th>\n",
       "      <th>uid</th>\n",
       "      <th>date</th>\n",
       "      <th>mid</th>\n",
       "      <th>rate</th>\n",
       "      <th>count</th>\n",
       "    </tr>\n",
       "  </thead>\n",
       "  <tbody>\n",
       "    <tr>\n",
       "      <th>0</th>\n",
       "      <td>1</td>\n",
       "      <td>2000-12-31</td>\n",
       "      <td>40</td>\n",
       "      <td>40</td>\n",
       "      <td>40</td>\n",
       "    </tr>\n",
       "    <tr>\n",
       "      <th>1</th>\n",
       "      <td>1</td>\n",
       "      <td>2001-01-06</td>\n",
       "      <td>13</td>\n",
       "      <td>13</td>\n",
       "      <td>13</td>\n",
       "    </tr>\n",
       "    <tr>\n",
       "      <th>2</th>\n",
       "      <td>2</td>\n",
       "      <td>2000-12-31</td>\n",
       "      <td>129</td>\n",
       "      <td>129</td>\n",
       "      <td>129</td>\n",
       "    </tr>\n",
       "    <tr>\n",
       "      <th>3</th>\n",
       "      <td>3</td>\n",
       "      <td>2000-12-31</td>\n",
       "      <td>51</td>\n",
       "      <td>51</td>\n",
       "      <td>51</td>\n",
       "    </tr>\n",
       "    <tr>\n",
       "      <th>4</th>\n",
       "      <td>4</td>\n",
       "      <td>2000-12-31</td>\n",
       "      <td>21</td>\n",
       "      <td>21</td>\n",
       "      <td>21</td>\n",
       "    </tr>\n",
       "  </tbody>\n",
       "</table>\n",
       "</div>"
      ],
      "text/plain": [
       "   uid        date  mid  rate  count\n",
       "0    1  2000-12-31   40    40     40\n",
       "1    1  2001-01-06   13    13     13\n",
       "2    2  2000-12-31  129   129    129\n",
       "3    3  2000-12-31   51    51     51\n",
       "4    4  2000-12-31   21    21     21"
      ]
     },
     "execution_count": 39,
     "metadata": {},
     "output_type": "execute_result"
    }
   ],
   "source": [
    "df = df.dropna(axis = 0, how = 'any')\n",
    "df = df.fillna(value = 0)\n",
    "df1 = df.sort_values(['uid', 'timestamp'])\\\n",
    ".groupby(['uid', 'date'], as_index=False).count() \\\n",
    ".drop('timestamp', 1)\n",
    "\n",
    "df1.head()"
   ]
  },
  {
   "cell_type": "code",
   "execution_count": 40,
   "id": "designed-belize",
   "metadata": {},
   "outputs": [
    {
     "data": {
      "text/plain": [
       "<AxesSubplot:>"
      ]
     },
     "execution_count": 40,
     "metadata": {},
     "output_type": "execute_result"
    },
    {
     "data": {
      "image/png": "[encoded data removed]",
      "text/plain": [
       "<Figure size 432x288 with 1 Axes>"
      ]
     },
     "metadata": {
      "needs_background": "light"
     },
     "output_type": "display_data"
    }
   ],
   "source": [
    "df1[['count']].plot()"
   ]
  },
  {
   "cell_type": "code",
   "execution_count": 41,
   "id": "crazy-variation",
   "metadata": {},
   "outputs": [
    {
     "data": {
      "text/plain": [
       "count    22814.000000\n",
       "mean        43.841895\n",
       "std         87.879364\n",
       "min          1.000000\n",
       "25%          1.000000\n",
       "50%          7.000000\n",
       "75%         46.000000\n",
       "max       1442.000000\n",
       "Name: count, dtype: float64"
      ]
     },
     "execution_count": 41,
     "metadata": {},
     "output_type": "execute_result"
    }
   ],
   "source": [
    "df1['count'].describe()"
   ]
  },
  {
   "cell_type": "code",
   "execution_count": 67,
   "id": "dressed-cooler",
   "metadata": {},
   "outputs": [
    {
     "data": {
      "text/html": [
       "<div>\n",
       "<style scoped>\n",
       "    .dataframe tbody tr th:only-of-type {\n",
       "        vertical-align: middle;\n",
       "    }\n",
       "\n",
       "    .dataframe tbody tr th {\n",
       "        vertical-align: top;\n",
       "    }\n",
       "\n",
       "    .dataframe thead th {\n",
       "        text-align: right;\n",
       "    }\n",
       "</style>\n",
       "<table border=\"1\" class=\"dataframe\">\n",
       "  <thead>\n",
       "    <tr style=\"text-align: right;\">\n",
       "      <th></th>\n",
       "      <th>rate</th>\n",
       "    </tr>\n",
       "  </thead>\n",
       "  <tbody>\n",
       "    <tr>\n",
       "      <th>20</th>\n",
       "      <td>25</td>\n",
       "    </tr>\n",
       "  </tbody>\n",
       "</table>\n",
       "</div>"
      ],
      "text/plain": [
       "    rate\n",
       "20    25"
      ]
     },
     "execution_count": 67,
     "metadata": {},
     "output_type": "execute_result"
    }
   ],
   "source": [
    "df1.iloc[20]\n",
    "df1.loc[[20],['rate']]"
   ]
  },
  {
   "cell_type": "code",
   "execution_count": 72,
   "id": "great-corruption",
   "metadata": {},
   "outputs": [],
   "source": [
    "df2 = df.sort_values(['uid', 'timestamp'])\\\n",
    ".groupby(['uid', 'date'], as_index=False).agg(lambda x: list(x))\\\n",
    ".drop('timestamp', 1)\n",
    "df2['sess_len'] = df2['mid'].map(len)\n",
    "df2['sessid'] = range(1, len(df2) +1)"
   ]
  },
  {
   "cell_type": "code",
   "execution_count": 73,
   "id": "parental-storage",
   "metadata": {},
   "outputs": [
    {
     "data": {
      "text/html": [
       "<div>\n",
       "<style scoped>\n",
       "    .dataframe tbody tr th:only-of-type {\n",
       "        vertical-align: middle;\n",
       "    }\n",
       "\n",
       "    .dataframe tbody tr th {\n",
       "        vertical-align: top;\n",
       "    }\n",
       "\n",
       "    .dataframe thead th {\n",
       "        text-align: right;\n",
       "    }\n",
       "</style>\n",
       "<table border=\"1\" class=\"dataframe\">\n",
       "  <thead>\n",
       "    <tr style=\"text-align: right;\">\n",
       "      <th></th>\n",
       "      <th>uid</th>\n",
       "      <th>date</th>\n",
       "      <th>mid</th>\n",
       "      <th>rate</th>\n",
       "      <th>sess_len</th>\n",
       "      <th>sessid</th>\n",
       "    </tr>\n",
       "  </thead>\n",
       "  <tbody>\n",
       "    <tr>\n",
       "      <th>0</th>\n",
       "      <td>1</td>\n",
       "      <td>2000-12-31</td>\n",
       "      <td>[3186, 1270, 1721, 1022, 2340, 1836, 3408, 280...</td>\n",
       "      <td>[4, 5, 4, 5, 3, 5, 4, 5, 4, 5, 3, 4, 4, 4, 4, ...</td>\n",
       "      <td>40</td>\n",
       "      <td>1</td>\n",
       "    </tr>\n",
       "    <tr>\n",
       "      <th>1</th>\n",
       "      <td>1</td>\n",
       "      <td>2001-01-06</td>\n",
       "      <td>[1545, 527, 595, 2687, 745, 588, 1, 2355, 2294...</td>\n",
       "      <td>[4, 5, 5, 3, 3, 4, 5, 5, 4, 4, 4, 4, 5]</td>\n",
       "      <td>13</td>\n",
       "      <td>2</td>\n",
       "    </tr>\n",
       "    <tr>\n",
       "      <th>2</th>\n",
       "      <td>2</td>\n",
       "      <td>2000-12-31</td>\n",
       "      <td>[1198, 1210, 1217, 2717, 1293, 2943, 1225, 119...</td>\n",
       "      <td>[4, 4, 3, 3, 5, 4, 5, 5, 5, 4, 4, 2, 5, 4, 5, ...</td>\n",
       "      <td>129</td>\n",
       "      <td>3</td>\n",
       "    </tr>\n",
       "    <tr>\n",
       "      <th>3</th>\n",
       "      <td>3</td>\n",
       "      <td>2000-12-31</td>\n",
       "      <td>[593, 2858, 3534, 1968, 1431, 1961, 1266, 1378...</td>\n",
       "      <td>[3, 4, 3, 4, 3, 4, 5, 5, 4, 5, 4, 5, 4, 4, 5, ...</td>\n",
       "      <td>51</td>\n",
       "      <td>4</td>\n",
       "    </tr>\n",
       "    <tr>\n",
       "      <th>4</th>\n",
       "      <td>4</td>\n",
       "      <td>2000-12-31</td>\n",
       "      <td>[1210, 1097, 3468, 480, 3527, 260, 1196, 1198,...</td>\n",
       "      <td>[3, 4, 5, 4, 1, 5, 2, 5, 5, 5, 4, 5, 5, 5, 4, ...</td>\n",
       "      <td>21</td>\n",
       "      <td>5</td>\n",
       "    </tr>\n",
       "  </tbody>\n",
       "</table>\n",
       "</div>"
      ],
      "text/plain": [
       "   uid        date                                                mid  \\\n",
       "0    1  2000-12-31  [3186, 1270, 1721, 1022, 2340, 1836, 3408, 280...   \n",
       "1    1  2001-01-06  [1545, 527, 595, 2687, 745, 588, 1, 2355, 2294...   \n",
       "2    2  2000-12-31  [1198, 1210, 1217, 2717, 1293, 2943, 1225, 119...   \n",
       "3    3  2000-12-31  [593, 2858, 3534, 1968, 1431, 1961, 1266, 1378...   \n",
       "4    4  2000-12-31  [1210, 1097, 3468, 480, 3527, 260, 1196, 1198,...   \n",
       "\n",
       "                                                rate  sess_len  sessid  \n",
       "0  [4, 5, 4, 5, 3, 5, 4, 5, 4, 5, 3, 4, 4, 4, 4, ...        40       1  \n",
       "1            [4, 5, 5, 3, 3, 4, 5, 5, 4, 4, 4, 4, 5]        13       2  \n",
       "2  [4, 4, 3, 3, 5, 4, 5, 5, 5, 4, 4, 2, 5, 4, 5, ...       129       3  \n",
       "3  [3, 4, 3, 4, 3, 4, 5, 5, 4, 5, 4, 5, 4, 4, 5, ...        51       4  \n",
       "4  [3, 4, 5, 4, 1, 5, 2, 5, 5, 5, 4, 5, 5, 5, 4, ...        21       5  "
      ]
     },
     "execution_count": 73,
     "metadata": {},
     "output_type": "execute_result"
    }
   ],
   "source": [
    "df2.head()"
   ]
  },
  {
   "cell_type": "code",
   "execution_count": 60,
   "id": "level-adjustment",
   "metadata": {},
   "outputs": [
    {
     "data": {
      "text/html": [
       "<div>\n",
       "<style scoped>\n",
       "    .dataframe tbody tr th:only-of-type {\n",
       "        vertical-align: middle;\n",
       "    }\n",
       "\n",
       "    .dataframe tbody tr th {\n",
       "        vertical-align: top;\n",
       "    }\n",
       "\n",
       "    .dataframe thead th {\n",
       "        text-align: right;\n",
       "    }\n",
       "</style>\n",
       "<table border=\"1\" class=\"dataframe\">\n",
       "  <thead>\n",
       "    <tr style=\"text-align: right;\">\n",
       "      <th></th>\n",
       "      <th>uid</th>\n",
       "      <th>date</th>\n",
       "      <th>mid</th>\n",
       "      <th>rate</th>\n",
       "      <th>count</th>\n",
       "      <th>sess_len</th>\n",
       "      <th>sessid</th>\n",
       "    </tr>\n",
       "  </thead>\n",
       "  <tbody>\n",
       "    <tr>\n",
       "      <th>0</th>\n",
       "      <td>1</td>\n",
       "      <td>2000-12-31</td>\n",
       "      <td>[3186, 1270, 1721, 1022, 2340, 1836, 3408, 280...</td>\n",
       "      <td>[4, 5, 4, 5, 3, 5, 4, 5, 4, 5, 3, 4, 4, 4, 4, ...</td>\n",
       "      <td>[119.0, 297.0, 70.0, 53.0, 136.0, 351.0, 51.0,...</td>\n",
       "      <td>40</td>\n",
       "      <td>1</td>\n",
       "    </tr>\n",
       "    <tr>\n",
       "      <th>1</th>\n",
       "      <td>1</td>\n",
       "      <td>2001-01-06</td>\n",
       "      <td>[1545, 527, 595, 2687, 745, 588, 1, 2355, 2294...</td>\n",
       "      <td>[4, 5, 5, 3, 3, 4, 5, 5, 4, 4, 4, 4, 5]</td>\n",
       "      <td>[107.0, 304.0, 401.0, 35.0, 108.0, 391.0, 96.0...</td>\n",
       "      <td>13</td>\n",
       "      <td>2</td>\n",
       "    </tr>\n",
       "  </tbody>\n",
       "</table>\n",
       "</div>"
      ],
      "text/plain": [
       "   uid        date                                                mid  \\\n",
       "0    1  2000-12-31  [3186, 1270, 1721, 1022, 2340, 1836, 3408, 280...   \n",
       "1    1  2001-01-06  [1545, 527, 595, 2687, 745, 588, 1, 2355, 2294...   \n",
       "\n",
       "                                                rate  \\\n",
       "0  [4, 5, 4, 5, 3, 5, 4, 5, 4, 5, 3, 4, 4, 4, 4, ...   \n",
       "1            [4, 5, 5, 3, 3, 4, 5, 5, 4, 4, 4, 4, 5]   \n",
       "\n",
       "                                               count  sess_len  sessid  \n",
       "0  [119.0, 297.0, 70.0, 53.0, 136.0, 351.0, 51.0,...        40       1  \n",
       "1  [107.0, 304.0, 401.0, 35.0, 108.0, 391.0, 96.0...        13       2  "
      ]
     },
     "execution_count": 60,
     "metadata": {},
     "output_type": "execute_result"
    }
   ],
   "source": [
    "df2.loc[[0,1]]"
   ]
  },
  {
   "cell_type": "code",
   "execution_count": 61,
   "id": "super-capture",
   "metadata": {},
   "outputs": [
    {
     "data": {
      "text/plain": [
       "<pandas.core.indexing._iLocIndexer at 0x7fa053c091d8>"
      ]
     },
     "execution_count": 61,
     "metadata": {},
     "output_type": "execute_result"
    }
   ],
   "source": [
    "df2.iloc(1)"
   ]
  },
  {
   "cell_type": "code",
   "execution_count": 79,
   "id": "streaming-script",
   "metadata": {},
   "outputs": [
    {
     "name": "stderr",
     "output_type": "stream",
     "text": [
      "/Users/guoqiong/opt/anaconda3/envs/py36tf2/lib/python3.6/site-packages/ipykernel_launcher.py:1: FutureWarning: Indexing with multiple keys (implicitly converted to a tuple of keys) will be deprecated, use a list instead.\n",
      "  \"\"\"Entry point for launching an IPython kernel.\n"
     ]
    },
    {
     "data": {
      "text/html": [
       "<div>\n",
       "<style scoped>\n",
       "    .dataframe tbody tr th:only-of-type {\n",
       "        vertical-align: middle;\n",
       "    }\n",
       "\n",
       "    .dataframe tbody tr th {\n",
       "        vertical-align: top;\n",
       "    }\n",
       "\n",
       "    .dataframe thead th {\n",
       "        text-align: right;\n",
       "    }\n",
       "</style>\n",
       "<table border=\"1\" class=\"dataframe\">\n",
       "  <thead>\n",
       "    <tr style=\"text-align: right;\">\n",
       "      <th></th>\n",
       "      <th>mid</th>\n",
       "      <th>rate</th>\n",
       "    </tr>\n",
       "    <tr>\n",
       "      <th>uid</th>\n",
       "      <th></th>\n",
       "      <th></th>\n",
       "    </tr>\n",
       "  </thead>\n",
       "  <tbody>\n",
       "    <tr>\n",
       "      <th>1</th>\n",
       "      <td>[1193, 661, 914, 3408, 2355, 1197, 1287, 2804,...</td>\n",
       "      <td>[5, 3, 3, 4, 5, 3, 5, 5, 4, 4, 5, 4, 4, 4, 5, ...</td>\n",
       "    </tr>\n",
       "    <tr>\n",
       "      <th>2</th>\n",
       "      <td>[1357, 3068, 1537, 647, 2194, 648, 2268, 2628,...</td>\n",
       "      <td>[5, 4, 4, 3, 4, 4, 5, 3, 3, 3, 5, 4, 3, 3, 2, ...</td>\n",
       "    </tr>\n",
       "    <tr>\n",
       "      <th>3</th>\n",
       "      <td>[3421, 1641, 648, 1394, 3534, 104, 2735, 1210,...</td>\n",
       "      <td>[4, 2, 3, 4, 3, 4, 4, 4, 3, 3, 5, 3, 5, 4, 5, ...</td>\n",
       "    </tr>\n",
       "    <tr>\n",
       "      <th>4</th>\n",
       "      <td>[3468, 1210, 2951, 1214, 1036, 260, 2028, 480,...</td>\n",
       "      <td>[5, 3, 4, 4, 4, 5, 5, 4, 2, 5, 5, 4, 4, 4, 4, ...</td>\n",
       "    </tr>\n",
       "    <tr>\n",
       "      <th>5</th>\n",
       "      <td>[2987, 2333, 1175, 39, 288, 2337, 1535, 1392, ...</td>\n",
       "      <td>[4, 4, 5, 3, 2, 5, 4, 4, 2, 3, 2, 3, 4, 3, 1, ...</td>\n",
       "    </tr>\n",
       "  </tbody>\n",
       "</table>\n",
       "</div>"
      ],
      "text/plain": [
       "                                                   mid  \\\n",
       "uid                                                      \n",
       "1    [1193, 661, 914, 3408, 2355, 1197, 1287, 2804,...   \n",
       "2    [1357, 3068, 1537, 647, 2194, 648, 2268, 2628,...   \n",
       "3    [3421, 1641, 648, 1394, 3534, 104, 2735, 1210,...   \n",
       "4    [3468, 1210, 2951, 1214, 1036, 260, 2028, 480,...   \n",
       "5    [2987, 2333, 1175, 39, 288, 2337, 1535, 1392, ...   \n",
       "\n",
       "                                                  rate  \n",
       "uid                                                     \n",
       "1    [5, 3, 3, 4, 5, 3, 5, 5, 4, 4, 5, 4, 4, 4, 5, ...  \n",
       "2    [5, 4, 4, 3, 4, 4, 5, 3, 3, 3, 5, 4, 3, 3, 2, ...  \n",
       "3    [4, 2, 3, 4, 3, 4, 4, 4, 3, 3, 5, 3, 5, 4, 5, ...  \n",
       "4    [5, 3, 4, 4, 4, 5, 5, 4, 2, 5, 5, 4, 4, 4, 4, ...  \n",
       "5    [4, 4, 5, 3, 2, 5, 4, 4, 2, 3, 2, 3, 4, 3, 1, ...  "
      ]
     },
     "execution_count": 79,
     "metadata": {},
     "output_type": "execute_result"
    }
   ],
   "source": [
    "df3 = df.groupby(\"uid\")[\"mid\", \"rate\"].agg(list)\n",
    "df3.head()"
   ]
  },
  {
   "cell_type": "code",
   "execution_count": 82,
   "id": "respiratory-montana",
   "metadata": {},
   "outputs": [
    {
     "data": {
      "text/html": [
       "<div>\n",
       "<style scoped>\n",
       "    .dataframe tbody tr th:only-of-type {\n",
       "        vertical-align: middle;\n",
       "    }\n",
       "\n",
       "    .dataframe tbody tr th {\n",
       "        vertical-align: top;\n",
       "    }\n",
       "\n",
       "    .dataframe thead th {\n",
       "        text-align: right;\n",
       "    }\n",
       "</style>\n",
       "<table border=\"1\" class=\"dataframe\">\n",
       "  <thead>\n",
       "    <tr style=\"text-align: right;\">\n",
       "      <th></th>\n",
       "      <th>uid</th>\n",
       "      <th>date</th>\n",
       "      <th>mid</th>\n",
       "      <th>rate</th>\n",
       "      <th>sess_len</th>\n",
       "      <th>sessid</th>\n",
       "    </tr>\n",
       "  </thead>\n",
       "  <tbody>\n",
       "    <tr>\n",
       "      <th>2</th>\n",
       "      <td>2</td>\n",
       "      <td>2000-12-31</td>\n",
       "      <td>[1198, 1210, 1217, 2717, 1293, 2943, 1225, 119...</td>\n",
       "      <td>[4, 4, 3, 3, 5, 4, 5, 5, 5, 4, 4, 2, 5, 4, 5, ...</td>\n",
       "      <td>129</td>\n",
       "      <td>3</td>\n",
       "    </tr>\n",
       "    <tr>\n",
       "      <th>3</th>\n",
       "      <td>3</td>\n",
       "      <td>2000-12-31</td>\n",
       "      <td>[593, 2858, 3534, 1968, 1431, 1961, 1266, 1378...</td>\n",
       "      <td>[3, 4, 3, 4, 3, 4, 5, 5, 4, 5, 4, 5, 4, 4, 5, ...</td>\n",
       "      <td>51</td>\n",
       "      <td>4</td>\n",
       "    </tr>\n",
       "    <tr>\n",
       "      <th>5</th>\n",
       "      <td>5</td>\n",
       "      <td>2000-12-31</td>\n",
       "      <td>[2717, 908, 919, 1250, 356, 2858, 1127, 2188, ...</td>\n",
       "      <td>[1, 4, 4, 5, 1, 4, 1, 1, 3, 2, 5, 4, 5, 4, 3, ...</td>\n",
       "      <td>198</td>\n",
       "      <td>6</td>\n",
       "    </tr>\n",
       "    <tr>\n",
       "      <th>6</th>\n",
       "      <td>6</td>\n",
       "      <td>2000-12-31</td>\n",
       "      <td>[3072, 2006, 912, 1043, 3534, 1210, 377, 17, 1...</td>\n",
       "      <td>[4, 4, 4, 4, 4, 3, 3, 4, 4, 3, 3, 4, 4, 3, 4, ...</td>\n",
       "      <td>71</td>\n",
       "      <td>7</td>\n",
       "    </tr>\n",
       "    <tr>\n",
       "      <th>8</th>\n",
       "      <td>8</td>\n",
       "      <td>2000-12-31</td>\n",
       "      <td>[1210, 111, 908, 3481, 1573, 480, 589, 393, 20...</td>\n",
       "      <td>[4, 5, 5, 4, 4, 5, 5, 2, 5, 5, 3, 5, 5, 5, 5, ...</td>\n",
       "      <td>139</td>\n",
       "      <td>9</td>\n",
       "    </tr>\n",
       "  </tbody>\n",
       "</table>\n",
       "</div>"
      ],
      "text/plain": [
       "   uid        date                                                mid  \\\n",
       "2    2  2000-12-31  [1198, 1210, 1217, 2717, 1293, 2943, 1225, 119...   \n",
       "3    3  2000-12-31  [593, 2858, 3534, 1968, 1431, 1961, 1266, 1378...   \n",
       "5    5  2000-12-31  [2717, 908, 919, 1250, 356, 2858, 1127, 2188, ...   \n",
       "6    6  2000-12-31  [3072, 2006, 912, 1043, 3534, 1210, 377, 17, 1...   \n",
       "8    8  2000-12-31  [1210, 111, 908, 3481, 1573, 480, 589, 393, 20...   \n",
       "\n",
       "                                                rate  sess_len  sessid  \n",
       "2  [4, 4, 3, 3, 5, 4, 5, 5, 5, 4, 4, 2, 5, 4, 5, ...       129       3  \n",
       "3  [3, 4, 3, 4, 3, 4, 5, 5, 4, 5, 4, 5, 4, 4, 5, ...        51       4  \n",
       "5  [1, 4, 4, 5, 1, 4, 1, 1, 3, 2, 5, 4, 5, 4, 3, ...       198       6  \n",
       "6  [4, 4, 4, 4, 4, 3, 3, 4, 4, 3, 3, 4, 4, 3, 4, ...        71       7  \n",
       "8  [4, 5, 5, 4, 4, 5, 5, 2, 5, 5, 3, 5, 5, 5, 5, ...       139       9  "
      ]
     },
     "execution_count": 82,
     "metadata": {},
     "output_type": "execute_result"
    }
   ],
   "source": [
    "df4 = df2[df2[\"sess_len\"] > 50]\n",
    "df4.head()"
   ]
  },
  {
   "cell_type": "code",
   "execution_count": null,
   "id": "positive-anger",
   "metadata": {},
   "outputs": [],
   "source": []
  }
 ],
 "metadata": {
  "kernelspec": {
   "display_name": "Python 3",
   "language": "python",
   "name": "python3"
  },
  "language_info": {
   "codemirror_mode": {
    "name": "ipython",
    "version": 3
   },
   "file_extension": ".py",
   "mimetype": "text/x-python",
   "name": "python",
   "nbconvert_exporter": "python",
   "pygments_lexer": "ipython3",
   "version": "3.6.12"
  }
 },
 "nbformat": 4,
 "nbformat_minor": 5
}
