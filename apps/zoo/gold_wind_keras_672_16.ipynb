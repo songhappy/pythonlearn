{
 "cells": [
  {
   "cell_type": "code",
   "execution_count": 33,
   "metadata": {},
   "outputs": [],
   "source": [
    "import os\n",
    "os.environ[\"CUDA_VISIBLE_DEVICES\"] = \"5\"\n",
    "\n",
    "import pickle\n",
    "\n",
    "import numpy as np\n",
    "import pandas as pd\n",
    "import seaborn as sns\n",
    "\n",
    "from matplotlib import pyplot as plt\n",
    "\n",
    "from sklearn import preprocessing\n",
    "from sklearn import metrics\n",
    "\n",
    "from keras.models import Model\n",
    "from keras.layers import Input, LSTM, Dense\n",
    "from keras.optimizers import Adam\n",
    "from keras.callbacks import ModelCheckpoint"
   ]
  },
  {
   "cell_type": "code",
   "execution_count": 34,
   "metadata": {},
   "outputs": [],
   "source": [
    "test_data_size = 1500\n",
    "\n",
    "prediction_time = 16\n",
    "unroll_length = 672"
   ]
  },
  {
   "cell_type": "markdown",
   "metadata": {},
   "source": [
    "# Prepare Data"
   ]
  },
  {
   "cell_type": "code",
   "execution_count": 35,
   "metadata": {},
   "outputs": [],
   "source": [
    "try:\n",
    "    df= pd.read_csv(\"./data/WF1_632822_20181120.txt\")\n",
    "    df.columns = ['datetime', 'value']\n",
    "except Exception as e:\n",
    "    print(\"file doesn't exist\")"
   ]
  },
  {
   "cell_type": "code",
   "execution_count": 36,
   "metadata": {},
   "outputs": [
    {
     "data": {
      "text/html": [
       "<div>\n",
       "<style scoped>\n",
       "    .dataframe tbody tr th:only-of-type {\n",
       "        vertical-align: middle;\n",
       "    }\n",
       "\n",
       "    .dataframe tbody tr th {\n",
       "        vertical-align: top;\n",
       "    }\n",
       "\n",
       "    .dataframe thead th {\n",
       "        text-align: right;\n",
       "    }\n",
       "</style>\n",
       "<table border=\"1\" class=\"dataframe\">\n",
       "  <thead>\n",
       "    <tr style=\"text-align: right;\">\n",
       "      <th></th>\n",
       "      <th>datetime</th>\n",
       "      <th>value</th>\n",
       "    </tr>\n",
       "  </thead>\n",
       "  <tbody>\n",
       "    <tr>\n",
       "      <th>0</th>\n",
       "      <td>2018-01-01 00:00:00</td>\n",
       "      <td>-0.41</td>\n",
       "    </tr>\n",
       "    <tr>\n",
       "      <th>1</th>\n",
       "      <td>2018-01-01 00:15:00</td>\n",
       "      <td>-0.41</td>\n",
       "    </tr>\n",
       "    <tr>\n",
       "      <th>2</th>\n",
       "      <td>2018-01-01 00:30:00</td>\n",
       "      <td>-0.41</td>\n",
       "    </tr>\n",
       "    <tr>\n",
       "      <th>3</th>\n",
       "      <td>2018-01-01 00:45:00</td>\n",
       "      <td>-0.02</td>\n",
       "    </tr>\n",
       "    <tr>\n",
       "      <th>4</th>\n",
       "      <td>2018-01-01 01:00:00</td>\n",
       "      <td>0.64</td>\n",
       "    </tr>\n",
       "  </tbody>\n",
       "</table>\n",
       "</div>"
      ],
      "text/plain": [
       "              datetime  value\n",
       "0  2018-01-01 00:00:00  -0.41\n",
       "1  2018-01-01 00:15:00  -0.41\n",
       "2  2018-01-01 00:30:00  -0.41\n",
       "3  2018-01-01 00:45:00  -0.02\n",
       "4  2018-01-01 01:00:00   0.64"
      ]
     },
     "execution_count": 36,
     "metadata": {},
     "output_type": "execute_result"
    }
   ],
   "source": [
    "df.head()"
   ]
  },
  {
   "cell_type": "code",
   "execution_count": 37,
   "metadata": {},
   "outputs": [
    {
     "name": "stdout",
     "output_type": "stream",
     "text": [
      "<class 'pandas.core.frame.DataFrame'>\n",
      "RangeIndex: 30912 entries, 0 to 30911\n",
      "Data columns (total 2 columns):\n",
      "datetime    30912 non-null object\n",
      "value       24213 non-null float64\n",
      "dtypes: float64(1), object(1)\n",
      "memory usage: 483.1+ KB\n"
     ]
    }
   ],
   "source": [
    "df.info()"
   ]
  },
  {
   "cell_type": "code",
   "execution_count": 38,
   "metadata": {},
   "outputs": [
    {
     "data": {
      "text/plain": [
       "<matplotlib.axes._subplots.AxesSubplot at 0x123916250>"
      ]
     },
     "execution_count": 38,
     "metadata": {},
     "output_type": "execute_result"
    }
   ],
   "source": [
    "df['datetime'] = pd.to_datetime(df['datetime'])\n",
    "sns.heatmap(df.isnull(), cbar=False)"
   ]
  },
  {
   "cell_type": "code",
   "execution_count": 39,
   "metadata": {},
   "outputs": [
    {
     "data": {
      "image/png": "[encoded data removed]",
      "text/plain": [
       "<Figure size 432x288 with 1 Axes>"
      ]
     },
     "metadata": {},
     "output_type": "display_data"
    },
    {
     "data": {
      "image/png": "[encoded data removed]",
      "text/plain": [
       "<Figure size 864x360 with 1 Axes>"
      ]
     },
     "metadata": {},
     "output_type": "display_data"
    }
   ],
   "source": [
    "# visualisation of anomaly throughout time (viz 1)\n",
    "fig, ax = plt.subplots(figsize=(12, 5))\n",
    "\n",
    "ax.plot(df['datetime'][0: 672], df['value'][0: 672], color='blue', linewidth=0.6)\n",
    "ax.set_title('Active Power Measurement throughout time')\n",
    "\n",
    "plt.xlabel('datetime')\n",
    "plt.xticks(rotation=45) \n",
    "plt.ylabel('The Number of Active Power Measurement')\n",
    "plt.legend(loc='upper left')\n",
    "plt.show()"
   ]
  },
  {
   "cell_type": "code",
   "execution_count": 40,
   "metadata": {},
   "outputs": [],
   "source": [
    "df.dropna(axis=0, how='any', inplace=True)\n",
    "\n",
    "df['datetime'] = pd.to_datetime(df['datetime'])\n",
    "\n",
    "df['hour'] = df['datetime'].dt.hour\n",
    "df['day'] = df['datetime'].dt.day\n",
    "df['month'] = df['datetime'].dt.month\n",
    "\n",
    "df['day_of_week'] = df['datetime'].dt.dayofweek"
   ]
  },
  {
   "cell_type": "code",
   "execution_count": 41,
   "metadata": {},
   "outputs": [],
   "source": [
    "df = df.reset_index()"
   ]
  },
  {
   "cell_type": "code",
   "execution_count": 42,
   "metadata": {},
   "outputs": [
    {
     "data": {
      "text/plain": [
       "index          24213\n",
       "datetime       24213\n",
       "value          24213\n",
       "hour           24213\n",
       "day            24213\n",
       "month          24213\n",
       "day_of_week    24213\n",
       "dtype: int64"
      ]
     },
     "execution_count": 42,
     "metadata": {},
     "output_type": "execute_result"
    }
   ],
   "source": [
    "df.count()"
   ]
  },
  {
   "cell_type": "code",
   "execution_count": 43,
   "metadata": {},
   "outputs": [
    {
     "name": "stdout",
     "output_type": "stream",
     "text": [
      "DatetimeIndex(['2018-01-01 00:00:00', '2018-01-01 00:15:00',\n",
      "               '2018-01-01 00:30:00', '2018-01-01 00:45:00',\n",
      "               '2018-01-01 01:00:00', '2018-01-01 01:15:00',\n",
      "               '2018-01-01 01:30:00', '2018-01-01 01:45:00',\n",
      "               '2018-01-01 02:00:00', '2018-01-01 02:15:00',\n",
      "               ...\n",
      "               '2018-11-17 21:45:00', '2018-11-17 22:00:00',\n",
      "               '2018-11-17 22:15:00', '2018-11-17 22:30:00',\n",
      "               '2018-11-17 22:45:00', '2018-11-17 23:00:00',\n",
      "               '2018-11-17 23:15:00', '2018-11-17 23:30:00',\n",
      "               '2018-11-17 23:45:00', '2018-11-18 00:00:00'],\n",
      "              dtype='datetime64[ns]', length=30817, freq='15T')\n"
     ]
    }
   ],
   "source": [
    "index = pd.date_range(start='2018-01-01', end='2018-11-18', freq='15min')\n",
    "print(index)"
   ]
  },
  {
   "cell_type": "code",
   "execution_count": 44,
   "metadata": {},
   "outputs": [],
   "source": [
    "X = []\n",
    "Y = []\n",
    "\n",
    "for i in range(len(index)-prediction_time-unroll_length):\n",
    "    \n",
    "    X_mask = (df['datetime'] >= index[i]) & (df['datetime'] < index[i+unroll_length])\n",
    "    X_tmp = df.loc[X_mask][['value', 'hour', 'day', 'month', 'day_of_week']]\n",
    "    \n",
    "    Y_mask = (df['datetime'] >= index[i+unroll_length]) & (df['datetime'] < index[i+prediction_time+unroll_length])\n",
    "    Y_tmp = df.loc[Y_mask]['value']\n",
    "    \n",
    "    if (X_tmp.shape[0]==unroll_length) and (Y_tmp.shape[0]==prediction_time):\n",
    "        #print(\"Not NaN, append!\")\n",
    "        X_tmp = X_tmp.values.tolist()\n",
    "        Y_tmp = Y_tmp.tolist()\n",
    "        X.append(X_tmp)\n",
    "        Y.append(Y_tmp)\n",
    "        "
   ]
  },
  {
   "cell_type": "code",
   "execution_count": 45,
   "metadata": {},
   "outputs": [
    {
     "name": "stdout",
     "output_type": "stream",
     "text": [
      "(17243, 672, 5)\n",
      "(17243, 16)\n",
      "[[[-4.100e-01  0.000e+00  1.000e+00  1.000e+00  0.000e+00]\n",
      "  [-4.100e-01  0.000e+00  1.000e+00  1.000e+00  0.000e+00]\n",
      "  [-4.100e-01  0.000e+00  1.000e+00  1.000e+00  0.000e+00]\n",
      "  ...\n",
      "  [ 2.411e+01  2.300e+01  7.000e+00  1.000e+00  6.000e+00]\n",
      "  [ 2.087e+01  2.300e+01  7.000e+00  1.000e+00  6.000e+00]\n",
      "  [ 1.661e+01  2.300e+01  7.000e+00  1.000e+00  6.000e+00]]\n",
      "\n",
      " [[-4.100e-01  0.000e+00  1.000e+00  1.000e+00  0.000e+00]\n",
      "  [-4.100e-01  0.000e+00  1.000e+00  1.000e+00  0.000e+00]\n",
      "  [-2.000e-02  0.000e+00  1.000e+00  1.000e+00  0.000e+00]\n",
      "  ...\n",
      "  [ 2.087e+01  2.300e+01  7.000e+00  1.000e+00  6.000e+00]\n",
      "  [ 1.661e+01  2.300e+01  7.000e+00  1.000e+00  6.000e+00]\n",
      "  [ 1.199e+01  0.000e+00  8.000e+00  1.000e+00  0.000e+00]]]\n",
      "[[11.99  8.19  2.9   0.45  0.21  0.38 -0.33 -0.5  -0.42 -0.41 -0.45 -0.44\n",
      "  -0.44 -0.43 -0.43 -0.43]\n",
      " [ 8.19  2.9   0.45  0.21  0.38 -0.33 -0.5  -0.42 -0.41 -0.45 -0.44 -0.44\n",
      "  -0.43 -0.43 -0.43 -0.42]]\n"
     ]
    }
   ],
   "source": [
    "X = np.asarray(X)\n",
    "Y = np.asarray(Y)\n",
    "\n",
    "print(X.shape)\n",
    "print(Y.shape)\n",
    "print(X[0:2])\n",
    "print(Y[0:2])"
   ]
  },
  {
   "cell_type": "code",
   "execution_count": 46,
   "metadata": {},
   "outputs": [],
   "source": [
    "X_file = open(\"./X.pkl\", 'wb')\n",
    "pickle.dump(X, X_file)\n",
    "X_file.close()\n",
    "\n",
    "Y_file = open(\"./Y.pkl\", 'wb')\n",
    "pickle.dump(Y, Y_file)\n",
    "Y_file.close()"
   ]
  },
  {
   "cell_type": "markdown",
   "metadata": {},
   "source": [
    "# Load Dataset"
   ]
  },
  {
   "cell_type": "code",
   "execution_count": 47,
   "metadata": {},
   "outputs": [
    {
     "name": "stdout",
     "output_type": "stream",
     "text": [
      "(17243, 672, 5)\n",
      "(17243, 16)\n"
     ]
    }
   ],
   "source": [
    "X_file = open(\"./X.pkl\", 'rb')\n",
    "X = pickle.load(X_file)\n",
    "X_file.close()\n",
    "\n",
    "Y_file = open(\"./Y.pkl\", 'rb')\n",
    "Y = pickle.load(Y_file)\n",
    "Y_file.close()\n",
    "print(X.shape)\n",
    "print(Y.shape)"
   ]
  },
  {
   "cell_type": "code",
   "execution_count": 48,
   "metadata": {},
   "outputs": [
    {
     "name": "stdout",
     "output_type": "stream",
     "text": [
      "(15743, 672, 5)\n",
      "(1500, 672, 5)\n",
      "(15743, 16)\n",
      "(1500, 16)\n"
     ]
    }
   ],
   "source": [
    "X_train = X[0: -test_data_size]\n",
    "X_test = X[-test_data_size: ]\n",
    "\n",
    "y_train = Y[0: -test_data_size]\n",
    "y_test = Y[-test_data_size: ]\n",
    "\n",
    "print(X_train.shape)\n",
    "print(X_test.shape)\n",
    "\n",
    "print(y_train.shape)\n",
    "print(y_test.shape)"
   ]
  },
  {
   "cell_type": "code",
   "execution_count": 49,
   "metadata": {},
   "outputs": [
    {
     "name": "stdout",
     "output_type": "stream",
     "text": [
      "[-0.57]\n",
      "[104.12]\n",
      "[-0.59  0.    1.    1.    0.  ]\n",
      "[104.12  23.    31.     8.     6.  ]\n"
     ]
    }
   ],
   "source": [
    "X_min_max_scaler = preprocessing.MinMaxScaler()\n",
    "y_min_max_scaler = preprocessing.MinMaxScaler()\n",
    "\n",
    "X_train = X_min_max_scaler.fit_transform(X_train.reshape(-1, 5)).reshape(-1, unroll_length, 5)\n",
    "X_test = X_min_max_scaler.transform(X_test.reshape(-1, 5)).reshape(-1, unroll_length, 5)\n",
    "\n",
    "\n",
    "y_min_max_scaler.fit(y_train.reshape(-1, 1))\n",
    "\n",
    "print(y_min_max_scaler.data_min_)\n",
    "print(y_min_max_scaler.data_max_)\n",
    "\n",
    "print(X_min_max_scaler.data_min_)\n",
    "print(X_min_max_scaler.data_max_)\n",
    "\n",
    "y_min_max_scaler.data_min_[0] = X_min_max_scaler.data_min_[0]\n",
    "y_min_max_scaler.data_max_[0] = X_min_max_scaler.data_max_[0]\n",
    "\n",
    "label_min = X_min_max_scaler.data_min_[0]\n",
    "label_max = X_min_max_scaler.data_max_[0]\n",
    "\n",
    "y_train = y_min_max_scaler.transform(y_train.reshape(-1, 1)).reshape(-1, 16)\n",
    "y_test = y_min_max_scaler.transform(y_test.reshape(-1, 1)).reshape(-1, 16)"
   ]
  },
  {
   "cell_type": "markdown",
   "metadata": {},
   "source": [
    "The major problem is that bigdl's lstm does not have \"return_state\" and \"initial_state\"."
   ]
  },
  {
   "cell_type": "code",
   "execution_count": 50,
   "metadata": {},
   "outputs": [
    {
     "name": "stdout",
     "output_type": "stream",
     "text": [
      "(15743, 16, 1)\n",
      "(1500, 16, 1)\n"
     ]
    }
   ],
   "source": [
    "y_train = np.expand_dims(y_train, axis=-1)\n",
    "y_test = np.expand_dims(y_test, axis=-1)\n",
    "print(y_train.shape)\n",
    "print(y_test.shape)"
   ]
  },
  {
   "cell_type": "markdown",
   "metadata": {},
   "source": [
    "# Build Model"
   ]
  },
  {
   "cell_type": "code",
   "execution_count": 51,
   "metadata": {},
   "outputs": [],
   "source": [
    "latent_dim = 16 # LSTM hidden units\n",
    "dropout = .20 \n",
    "\n",
    "# Define an input series and encode it with an LSTM. \n",
    "encoder_inputs = Input(shape=(None, 5)) \n",
    "encoder = LSTM(latent_dim, dropout=dropout, return_state=True)\n",
    "encoder_outputs, state_h, state_c = encoder(encoder_inputs)\n",
    "\n",
    "# We discard `encoder_outputs` and only keep the final states. These represent the \"context\"\n",
    "# vector that we use as the basis for decoding.\n",
    "encoder_states = [state_h, state_c]\n",
    "\n",
    "# Set up the decoder, using `encoder_states` as initial state.\n",
    "# This is where teacher forcing inputs are fed in.\n",
    "decoder_inputs = Input(shape=(None, 1)) \n",
    "\n",
    "# We set up our decoder using `encoder_states` as initial state.  \n",
    "# We return full output sequences and return internal states as well. \n",
    "# We don't use the return states in the training model, but we will use them in inference.\n",
    "decoder_lstm = LSTM(latent_dim, dropout=dropout, return_sequences=True, return_state=True)\n",
    "decoder_outputs, _, _ = decoder_lstm(decoder_inputs,\n",
    "                                     initial_state=encoder_states)\n",
    "\n",
    "decoder_dense = Dense(1) # 1 continuous output at each timestep\n",
    "decoder_outputs = decoder_dense(decoder_outputs)\n",
    "\n",
    "# Define the model that will turn\n",
    "# `encoder_input_data` & `decoder_input_data` into `decoder_target_data`\n",
    "model = Model([encoder_inputs, decoder_inputs], decoder_outputs)"
   ]
  },
  {
   "cell_type": "code",
   "execution_count": 52,
   "metadata": {},
   "outputs": [],
   "source": [
    "batch_size = 1024\n",
    "epochs = 5\n",
    "\n",
    "# sample of series from train_enc_start to train_enc_end  \n",
    "encoder_input_data = X_train\n",
    "\n",
    "# sample of series from train_pred_start to train_pred_end \n",
    "decoder_target_data = y_train\n",
    "\n",
    "# lagged target series for teacher forcing\n",
    "decoder_input_data = np.zeros(decoder_target_data.shape)\n",
    "decoder_input_data[:,1:,0] = decoder_target_data[:,:-1,0]\n",
    "decoder_input_data[:,0,0] = encoder_input_data[:,-1,0]\n",
    "\n",
    "model.compile(Adam(), loss='mean_absolute_error')"
   ]
  },
  {
   "cell_type": "code",
   "execution_count": 53,
   "metadata": {},
   "outputs": [
    {
     "name": "stdout",
     "output_type": "stream",
     "text": [
      "Train on 14168 samples, validate on 1575 samples\n",
      "Epoch 1/5\n",
      "14168/14168 [==============================] - 13s 902us/step - loss: 0.2340 - val_loss: 0.1864\n",
      "\n",
      "Epoch 00001: val_loss improved from inf to 0.18638, saving model to ./best_model.h5\n"
     ]
    },
    {
     "name": "stderr",
     "output_type": "stream",
     "text": [
      "/Library/Python/2.7/site-packages/keras/engine/network.py:877: UserWarning: Layer lstm_4 was passed non-serializable keyword arguments: {'initial_state': [<tf.Tensor 'lstm_3/while/Exit_2:0' shape=(?, 16) dtype=float32>, <tf.Tensor 'lstm_3/while/Exit_3:0' shape=(?, 16) dtype=float32>]}. They will not be included in the serialized model (and thus will be missing at deserialization time).\n",
      "  '. They will not be included '\n"
     ]
    },
    {
     "name": "stdout",
     "output_type": "stream",
     "text": [
      "Epoch 2/5\n",
      "14168/14168 [==============================] - 11s 755us/step - loss: 0.1872 - val_loss: 0.1455\n",
      "\n",
      "Epoch 00002: val_loss improved from 0.18638 to 0.14550, saving model to ./best_model.h5\n",
      "Epoch 3/5\n",
      "14168/14168 [==============================] - 11s 747us/step - loss: 0.1500 - val_loss: 0.1061\n",
      "\n",
      "Epoch 00003: val_loss improved from 0.14550 to 0.10608, saving model to ./best_model.h5\n",
      "Epoch 4/5\n",
      "14168/14168 [==============================] - 11s 756us/step - loss: 0.1261 - val_loss: 0.0898\n",
      "\n",
      "Epoch 00004: val_loss improved from 0.10608 to 0.08978, saving model to ./best_model.h5\n",
      "Epoch 5/5\n",
      "14168/14168 [==============================] - 11s 750us/step - loss: 0.1196 - val_loss: 0.0856\n",
      "\n",
      "Epoch 00005: val_loss improved from 0.08978 to 0.08558, saving model to ./best_model.h5\n",
      "CPU times: user 2min 20s, sys: 1min, total: 3min 21s\n",
      "Wall time: 57.3 s\n"
     ]
    }
   ],
   "source": [
    "%%time\n",
    "\n",
    "checkpoint = ModelCheckpoint(\"./best_model.h5\", monitor='val_loss', verbose=2, save_best_only=True, mode='min')\n",
    "\n",
    "history = model.fit([encoder_input_data, decoder_input_data], decoder_target_data,\n",
    "                     batch_size=batch_size,\n",
    "                     epochs=epochs,\n",
    "                     validation_split=0.1,\n",
    "                     callbacks=[checkpoint])"
   ]
  },
  {
   "cell_type": "code",
   "execution_count": 54,
   "metadata": {},
   "outputs": [
    {
     "data": {
      "image/png": "[encoded data removed]",
      "text/plain": [
       "<Figure size 432x288 with 1 Axes>"
      ]
     },
     "metadata": {},
     "output_type": "display_data"
    }
   ],
   "source": [
    "plt.plot(history.history['loss'])\n",
    "plt.plot(history.history['val_loss'])\n",
    "\n",
    "plt.xlabel('Epoch')\n",
    "plt.ylabel('Mean Absolute Error Loss')\n",
    "plt.title('Loss Over Time')\n",
    "plt.legend(['Train','Valid'])\n",
    "plt.show()"
   ]
  },
  {
   "cell_type": "code",
   "execution_count": 55,
   "metadata": {},
   "outputs": [],
   "source": [
    "model.load_weights(\"./best_model.h5\")"
   ]
  },
  {
   "cell_type": "code",
   "execution_count": 56,
   "metadata": {},
   "outputs": [],
   "source": [
    "# from our previous model - mapping encoder sequence to state vectors\n",
    "encoder_model = Model(encoder_inputs, encoder_states)\n",
    "\n",
    "# A modified version of the decoding stage that takes in predicted target inputs\n",
    "# and encoded state vectors, returning predicted target outputs and decoder state vectors.\n",
    "# We need to hang onto these state vectors to run the next step of the inference loop.\n",
    "decoder_state_input_h = Input(shape=(latent_dim,))\n",
    "decoder_state_input_c = Input(shape=(latent_dim,))\n",
    "decoder_states_inputs = [decoder_state_input_h, decoder_state_input_c]\n",
    "\n",
    "decoder_outputs, state_h, state_c = decoder_lstm(decoder_inputs, initial_state=decoder_states_inputs)\n",
    "decoder_states = [state_h, state_c]\n",
    "\n",
    "decoder_outputs = decoder_dense(decoder_outputs)\n",
    "decoder_model = Model([decoder_inputs] + decoder_states_inputs,\n",
    "                      [decoder_outputs] + decoder_states)\n",
    "\n",
    "def decode_sequence(input_seq):\n",
    "    \n",
    "    # Encode the input as state vectors.\n",
    "    states_value = encoder_model.predict(input_seq)\n",
    "\n",
    "    # Generate empty target sequence of length 1.\n",
    "    target_seq = np.zeros((1, 1, 1))\n",
    "    \n",
    "    # Populate the first target sequence with end of encoding series pageviews\n",
    "    target_seq[0, 0, 0] = input_seq[0, -1, 0]\n",
    "\n",
    "    # Sampling loop for a batch of sequences - we will fill decoded_seq with predictions\n",
    "    # (to simplify, here we assume a batch of size 1).\n",
    "\n",
    "    decoded_seq = np.zeros((1,prediction_time,1))\n",
    "    \n",
    "    for i in range(prediction_time):\n",
    "        \n",
    "        output, h, c = decoder_model.predict([target_seq] + states_value)\n",
    "        \n",
    "        decoded_seq[0,i,0] = output[0,0,0]\n",
    "\n",
    "        # Update the target sequence (of length 1).\n",
    "        target_seq = np.zeros((1, 1, 1))\n",
    "        target_seq[0, 0, 0] = output[0,0,0]\n",
    "\n",
    "        # Update states\n",
    "        states_value = [h, c]\n",
    "\n",
    "    return decoded_seq"
   ]
  },
  {
   "cell_type": "code",
   "execution_count": 57,
   "metadata": {},
   "outputs": [],
   "source": [
    "encoder_input_data = X_test\n",
    "decoder_target_data = y_test"
   ]
  },
  {
   "cell_type": "code",
   "execution_count": 58,
   "metadata": {},
   "outputs": [],
   "source": [
    "def predict_and_plot(encoder_input_data, decoder_target_data, sample_ind, enc_tail_len=unroll_length):\n",
    "\n",
    "    encode_series = encoder_input_data[sample_ind:sample_ind+1,:,:] \n",
    "    pred_series = decode_sequence(encode_series)\n",
    "        \n",
    "    encode_series = encode_series[:, :, 0].reshape(-1,1)\n",
    "    \n",
    "    pred_series = pred_series.reshape(-1,1)\n",
    "    \n",
    "    target_series = decoder_target_data[sample_ind,:,:1].reshape(-1,1) \n",
    "    \n",
    "    \n",
    "    encode_series_tail = np.concatenate([encode_series[-enc_tail_len:],target_series[:1]])\n",
    "    x_encode = encode_series_tail.shape[0]\n",
    "    \n",
    "    \n",
    "    plt.figure(figsize=(10,6))   \n",
    "    \n",
    "    plt.plot(range(1,x_encode+1),encode_series_tail)\n",
    "    plt.plot(range(x_encode,x_encode+prediction_time),target_series,color='orange')\n",
    "    plt.plot(range(x_encode,x_encode+prediction_time),pred_series,color='teal',linestyle='--')\n",
    "    \n",
    "    plt.title('Encoder Series Tail of Length %d, Target Series, and Predictions' % enc_tail_len)\n",
    "    plt.legend(['Encoding Series','Target Series','Predictions'])"
   ]
  },
  {
   "cell_type": "code",
   "execution_count": 59,
   "metadata": {},
   "outputs": [],
   "source": [
    "predict_and_plot(encoder_input_data, decoder_target_data, 16)"
   ]
  },
  {
   "cell_type": "code",
   "execution_count": 60,
   "metadata": {},
   "outputs": [
    {
     "name": "stdout",
     "output_type": "stream",
     "text": [
      "CPU times: user 3min 51s, sys: 1min 35s, total: 5min 26s\n",
      "Wall time: 1min 39s\n"
     ]
    }
   ],
   "source": [
    "%%time\n",
    "p = []\n",
    "\n",
    "for sample_ind in range(y_test.shape[0]):\n",
    "#     print(sample_ind)\n",
    "    encode_series = encoder_input_data[sample_ind:sample_ind+1,:,:] \n",
    "    pred_series = decode_sequence(encode_series)\n",
    "    \n",
    "    pred_series = pred_series.reshape(-1,1)   \n",
    "    \n",
    "    p.append(pred_series)"
   ]
  },
  {
   "cell_type": "code",
   "execution_count": 61,
   "metadata": {},
   "outputs": [
    {
     "name": "stdout",
     "output_type": "stream",
     "text": [
      "('RMSE:', 20.688293730353866)\n"
     ]
    }
   ],
   "source": [
    "print(\"RMSE:\",np.sqrt(metrics.mean_squared_error(np.squeeze(y_test), np.squeeze(np.asarray(p))))*(label_max-label_min))"
   ]
  },
  {
   "cell_type": "code",
   "execution_count": null,
   "metadata": {},
   "outputs": [],
   "source": []
  },
  {
   "cell_type": "code",
   "execution_count": null,
   "metadata": {},
   "outputs": [],
   "source": []
  },
  {
   "cell_type": "code",
   "execution_count": null,
   "metadata": {},
   "outputs": [],
   "source": []
  },
  {
   "cell_type": "code",
   "execution_count": null,
   "metadata": {},
   "outputs": [],
   "source": []
  }
 ],
 "metadata": {
  "kernelspec": {
   "display_name": "Python 2",
   "language": "python",
   "name": "python2"
  },
  "language_info": {
   "codemirror_mode": {
    "name": "ipython",
    "version": 2
   },
   "file_extension": ".py",
   "mimetype": "text/x-python",
   "name": "python",
   "nbconvert_exporter": "python",
   "pygments_lexer": "ipython2",
   "version": "2.7.16"
  }
 },
 "nbformat": 4,
 "nbformat_minor": 2
}
